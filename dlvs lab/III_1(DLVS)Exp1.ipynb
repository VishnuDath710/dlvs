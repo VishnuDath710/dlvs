{
 "cells": [
  {
   "cell_type": "markdown",
   "metadata": {
    "id": "kNiaLAtnwqyG"
   },
   "source": [
    "SINGLE LAYER PERCEPTRON without libraries"
   ]
  },
  {
   "cell_type": "code",
   "execution_count": 1,
   "metadata": {
    "id": "CsvwzjbCphtd"
   },
   "outputs": [],
   "source": [
    "import numpy as np\n",
    "import pandas as pd\n"
   ]
  },
  {
   "cell_type": "code",
   "execution_count": 4,
   "metadata": {},
   "outputs": [
    {
     "name": "stdout",
     "output_type": "stream",
     "text": [
      "Defaulting to user installation because normal site-packages is not writeable\n",
      "Requirement already satisfied: google in c:\\users\\vishnu\\appdata\\roaming\\python\\python311\\site-packages (3.0.0)\n",
      "Requirement already satisfied: beautifulsoup4 in c:\\programdata\\anaconda3\\lib\\site-packages (from google) (4.12.2)\n",
      "Requirement already satisfied: soupsieve>1.2 in c:\\programdata\\anaconda3\\lib\\site-packages (from beautifulsoup4->google) (2.4)\n",
      "Note: you may need to restart the kernel to use updated packages.\n"
     ]
    }
   ],
   "source": [
    "pip install google\n"
   ]
  },
  {
   "cell_type": "code",
   "execution_count": 5,
   "metadata": {},
   "outputs": [
    {
     "ename": "ModuleNotFoundError",
     "evalue": "No module named 'google'",
     "output_type": "error",
     "traceback": [
      "\u001b[1;31m---------------------------------------------------------------------------\u001b[0m",
      "\u001b[1;31mModuleNotFoundError\u001b[0m                       Traceback (most recent call last)",
      "Cell \u001b[1;32mIn[5], line 1\u001b[0m\n\u001b[1;32m----> 1\u001b[0m \u001b[38;5;28;01mfrom\u001b[39;00m \u001b[38;5;21;01mgoogle\u001b[39;00m\u001b[38;5;21;01m.\u001b[39;00m\u001b[38;5;21;01mcolab\u001b[39;00m \u001b[38;5;28;01mimport\u001b[39;00m files\n\u001b[0;32m      2\u001b[0m uploaded \u001b[38;5;241m=\u001b[39m files\u001b[38;5;241m.\u001b[39mupload()\n",
      "\u001b[1;31mModuleNotFoundError\u001b[0m: No module named 'google'"
     ]
    }
   ],
   "source": [
    "from google.colab import files\n",
    "uploaded = files.upload()"
   ]
  },
  {
   "cell_type": "code",
   "execution_count": null,
   "metadata": {
    "colab": {
     "base_uri": "https://localhost:8080/",
     "height": 363
    },
    "id": "VrSLLq2Hp5vc",
    "outputId": "897302c0-3760-48cb-f3cd-55ec6ee98739"
   },
   "outputs": [
    {
     "data": {
      "text/html": [
       "\n",
       "  <div id=\"df-71ae471c-ffec-4626-97cc-0dc1919b89cc\" class=\"colab-df-container\">\n",
       "    <div>\n",
       "<style scoped>\n",
       "    .dataframe tbody tr th:only-of-type {\n",
       "        vertical-align: middle;\n",
       "    }\n",
       "\n",
       "    .dataframe tbody tr th {\n",
       "        vertical-align: top;\n",
       "    }\n",
       "\n",
       "    .dataframe thead th {\n",
       "        text-align: right;\n",
       "    }\n",
       "</style>\n",
       "<table border=\"1\" class=\"dataframe\">\n",
       "  <thead>\n",
       "    <tr style=\"text-align: right;\">\n",
       "      <th></th>\n",
       "      <th>Sepal_len_cm</th>\n",
       "      <th>Sepal_wid_cm</th>\n",
       "      <th>Petal_wid_cm</th>\n",
       "      <th>Petal_len_cm</th>\n",
       "      <th>Type</th>\n",
       "    </tr>\n",
       "  </thead>\n",
       "  <tbody>\n",
       "    <tr>\n",
       "      <th>0</th>\n",
       "      <td>4.9</td>\n",
       "      <td>3.0</td>\n",
       "      <td>1.4</td>\n",
       "      <td>0.2</td>\n",
       "      <td>0</td>\n",
       "    </tr>\n",
       "    <tr>\n",
       "      <th>1</th>\n",
       "      <td>4.7</td>\n",
       "      <td>3.2</td>\n",
       "      <td>1.3</td>\n",
       "      <td>0.2</td>\n",
       "      <td>0</td>\n",
       "    </tr>\n",
       "    <tr>\n",
       "      <th>2</th>\n",
       "      <td>4.6</td>\n",
       "      <td>3.1</td>\n",
       "      <td>1.5</td>\n",
       "      <td>0.2</td>\n",
       "      <td>0</td>\n",
       "    </tr>\n",
       "    <tr>\n",
       "      <th>3</th>\n",
       "      <td>5.0</td>\n",
       "      <td>3.6</td>\n",
       "      <td>1.4</td>\n",
       "      <td>0.2</td>\n",
       "      <td>0</td>\n",
       "    </tr>\n",
       "    <tr>\n",
       "      <th>4</th>\n",
       "      <td>5.4</td>\n",
       "      <td>3.9</td>\n",
       "      <td>1.7</td>\n",
       "      <td>0.4</td>\n",
       "      <td>0</td>\n",
       "    </tr>\n",
       "    <tr>\n",
       "      <th>5</th>\n",
       "      <td>4.6</td>\n",
       "      <td>3.4</td>\n",
       "      <td>1.4</td>\n",
       "      <td>0.3</td>\n",
       "      <td>0</td>\n",
       "    </tr>\n",
       "    <tr>\n",
       "      <th>6</th>\n",
       "      <td>5.0</td>\n",
       "      <td>3.4</td>\n",
       "      <td>1.5</td>\n",
       "      <td>0.2</td>\n",
       "      <td>0</td>\n",
       "    </tr>\n",
       "    <tr>\n",
       "      <th>7</th>\n",
       "      <td>4.4</td>\n",
       "      <td>2.9</td>\n",
       "      <td>1.4</td>\n",
       "      <td>0.2</td>\n",
       "      <td>0</td>\n",
       "    </tr>\n",
       "    <tr>\n",
       "      <th>8</th>\n",
       "      <td>4.9</td>\n",
       "      <td>3.1</td>\n",
       "      <td>1.5</td>\n",
       "      <td>0.1</td>\n",
       "      <td>0</td>\n",
       "    </tr>\n",
       "    <tr>\n",
       "      <th>9</th>\n",
       "      <td>5.4</td>\n",
       "      <td>3.7</td>\n",
       "      <td>1.5</td>\n",
       "      <td>0.2</td>\n",
       "      <td>0</td>\n",
       "    </tr>\n",
       "  </tbody>\n",
       "</table>\n",
       "</div>\n",
       "    <div class=\"colab-df-buttons\">\n",
       "\n",
       "  <div class=\"colab-df-container\">\n",
       "    <button class=\"colab-df-convert\" onclick=\"convertToInteractive('df-71ae471c-ffec-4626-97cc-0dc1919b89cc')\"\n",
       "            title=\"Convert this dataframe to an interactive table.\"\n",
       "            style=\"display:none;\">\n",
       "\n",
       "  <svg xmlns=\"http://www.w3.org/2000/svg\" height=\"24px\" viewBox=\"0 -960 960 960\">\n",
       "    <path d=\"M120-120v-720h720v720H120Zm60-500h600v-160H180v160Zm220 220h160v-160H400v160Zm0 220h160v-160H400v160ZM180-400h160v-160H180v160Zm440 0h160v-160H620v160ZM180-180h160v-160H180v160Zm440 0h160v-160H620v160Z\"/>\n",
       "  </svg>\n",
       "    </button>\n",
       "\n",
       "  <style>\n",
       "    .colab-df-container {\n",
       "      display:flex;\n",
       "      gap: 12px;\n",
       "    }\n",
       "\n",
       "    .colab-df-convert {\n",
       "      background-color: #E8F0FE;\n",
       "      border: none;\n",
       "      border-radius: 50%;\n",
       "      cursor: pointer;\n",
       "      display: none;\n",
       "      fill: #1967D2;\n",
       "      height: 32px;\n",
       "      padding: 0 0 0 0;\n",
       "      width: 32px;\n",
       "    }\n",
       "\n",
       "    .colab-df-convert:hover {\n",
       "      background-color: #E2EBFA;\n",
       "      box-shadow: 0px 1px 2px rgba(60, 64, 67, 0.3), 0px 1px 3px 1px rgba(60, 64, 67, 0.15);\n",
       "      fill: #174EA6;\n",
       "    }\n",
       "\n",
       "    .colab-df-buttons div {\n",
       "      margin-bottom: 4px;\n",
       "    }\n",
       "\n",
       "    [theme=dark] .colab-df-convert {\n",
       "      background-color: #3B4455;\n",
       "      fill: #D2E3FC;\n",
       "    }\n",
       "\n",
       "    [theme=dark] .colab-df-convert:hover {\n",
       "      background-color: #434B5C;\n",
       "      box-shadow: 0px 1px 3px 1px rgba(0, 0, 0, 0.15);\n",
       "      filter: drop-shadow(0px 1px 2px rgba(0, 0, 0, 0.3));\n",
       "      fill: #FFFFFF;\n",
       "    }\n",
       "  </style>\n",
       "\n",
       "    <script>\n",
       "      const buttonEl =\n",
       "        document.querySelector('#df-71ae471c-ffec-4626-97cc-0dc1919b89cc button.colab-df-convert');\n",
       "      buttonEl.style.display =\n",
       "        google.colab.kernel.accessAllowed ? 'block' : 'none';\n",
       "\n",
       "      async function convertToInteractive(key) {\n",
       "        const element = document.querySelector('#df-71ae471c-ffec-4626-97cc-0dc1919b89cc');\n",
       "        const dataTable =\n",
       "          await google.colab.kernel.invokeFunction('convertToInteractive',\n",
       "                                                    [key], {});\n",
       "        if (!dataTable) return;\n",
       "\n",
       "        const docLinkHtml = 'Like what you see? Visit the ' +\n",
       "          '<a target=\"_blank\" href=https://colab.research.google.com/notebooks/data_table.ipynb>data table notebook</a>'\n",
       "          + ' to learn more about interactive tables.';\n",
       "        element.innerHTML = '';\n",
       "        dataTable['output_type'] = 'display_data';\n",
       "        await google.colab.output.renderOutput(dataTable, element);\n",
       "        const docLink = document.createElement('div');\n",
       "        docLink.innerHTML = docLinkHtml;\n",
       "        element.appendChild(docLink);\n",
       "      }\n",
       "    </script>\n",
       "  </div>\n",
       "\n",
       "\n",
       "<div id=\"df-18f47787-b619-40fe-bdd9-66601d4c784a\">\n",
       "  <button class=\"colab-df-quickchart\" onclick=\"quickchart('df-18f47787-b619-40fe-bdd9-66601d4c784a')\"\n",
       "            title=\"Suggest charts.\"\n",
       "            style=\"display:none;\">\n",
       "\n",
       "<svg xmlns=\"http://www.w3.org/2000/svg\" height=\"24px\"viewBox=\"0 0 24 24\"\n",
       "     width=\"24px\">\n",
       "    <g>\n",
       "        <path d=\"M19 3H5c-1.1 0-2 .9-2 2v14c0 1.1.9 2 2 2h14c1.1 0 2-.9 2-2V5c0-1.1-.9-2-2-2zM9 17H7v-7h2v7zm4 0h-2V7h2v10zm4 0h-2v-4h2v4z\"/>\n",
       "    </g>\n",
       "</svg>\n",
       "  </button>\n",
       "\n",
       "<style>\n",
       "  .colab-df-quickchart {\n",
       "      --bg-color: #E8F0FE;\n",
       "      --fill-color: #1967D2;\n",
       "      --hover-bg-color: #E2EBFA;\n",
       "      --hover-fill-color: #174EA6;\n",
       "      --disabled-fill-color: #AAA;\n",
       "      --disabled-bg-color: #DDD;\n",
       "  }\n",
       "\n",
       "  [theme=dark] .colab-df-quickchart {\n",
       "      --bg-color: #3B4455;\n",
       "      --fill-color: #D2E3FC;\n",
       "      --hover-bg-color: #434B5C;\n",
       "      --hover-fill-color: #FFFFFF;\n",
       "      --disabled-bg-color: #3B4455;\n",
       "      --disabled-fill-color: #666;\n",
       "  }\n",
       "\n",
       "  .colab-df-quickchart {\n",
       "    background-color: var(--bg-color);\n",
       "    border: none;\n",
       "    border-radius: 50%;\n",
       "    cursor: pointer;\n",
       "    display: none;\n",
       "    fill: var(--fill-color);\n",
       "    height: 32px;\n",
       "    padding: 0;\n",
       "    width: 32px;\n",
       "  }\n",
       "\n",
       "  .colab-df-quickchart:hover {\n",
       "    background-color: var(--hover-bg-color);\n",
       "    box-shadow: 0 1px 2px rgba(60, 64, 67, 0.3), 0 1px 3px 1px rgba(60, 64, 67, 0.15);\n",
       "    fill: var(--button-hover-fill-color);\n",
       "  }\n",
       "\n",
       "  .colab-df-quickchart-complete:disabled,\n",
       "  .colab-df-quickchart-complete:disabled:hover {\n",
       "    background-color: var(--disabled-bg-color);\n",
       "    fill: var(--disabled-fill-color);\n",
       "    box-shadow: none;\n",
       "  }\n",
       "\n",
       "  .colab-df-spinner {\n",
       "    border: 2px solid var(--fill-color);\n",
       "    border-color: transparent;\n",
       "    border-bottom-color: var(--fill-color);\n",
       "    animation:\n",
       "      spin 1s steps(1) infinite;\n",
       "  }\n",
       "\n",
       "  @keyframes spin {\n",
       "    0% {\n",
       "      border-color: transparent;\n",
       "      border-bottom-color: var(--fill-color);\n",
       "      border-left-color: var(--fill-color);\n",
       "    }\n",
       "    20% {\n",
       "      border-color: transparent;\n",
       "      border-left-color: var(--fill-color);\n",
       "      border-top-color: var(--fill-color);\n",
       "    }\n",
       "    30% {\n",
       "      border-color: transparent;\n",
       "      border-left-color: var(--fill-color);\n",
       "      border-top-color: var(--fill-color);\n",
       "      border-right-color: var(--fill-color);\n",
       "    }\n",
       "    40% {\n",
       "      border-color: transparent;\n",
       "      border-right-color: var(--fill-color);\n",
       "      border-top-color: var(--fill-color);\n",
       "    }\n",
       "    60% {\n",
       "      border-color: transparent;\n",
       "      border-right-color: var(--fill-color);\n",
       "    }\n",
       "    80% {\n",
       "      border-color: transparent;\n",
       "      border-right-color: var(--fill-color);\n",
       "      border-bottom-color: var(--fill-color);\n",
       "    }\n",
       "    90% {\n",
       "      border-color: transparent;\n",
       "      border-bottom-color: var(--fill-color);\n",
       "    }\n",
       "  }\n",
       "</style>\n",
       "\n",
       "  <script>\n",
       "    async function quickchart(key) {\n",
       "      const quickchartButtonEl =\n",
       "        document.querySelector('#' + key + ' button');\n",
       "      quickchartButtonEl.disabled = true;  // To prevent multiple clicks.\n",
       "      quickchartButtonEl.classList.add('colab-df-spinner');\n",
       "      try {\n",
       "        const charts = await google.colab.kernel.invokeFunction(\n",
       "            'suggestCharts', [key], {});\n",
       "      } catch (error) {\n",
       "        console.error('Error during call to suggestCharts:', error);\n",
       "      }\n",
       "      quickchartButtonEl.classList.remove('colab-df-spinner');\n",
       "      quickchartButtonEl.classList.add('colab-df-quickchart-complete');\n",
       "    }\n",
       "    (() => {\n",
       "      let quickchartButtonEl =\n",
       "        document.querySelector('#df-18f47787-b619-40fe-bdd9-66601d4c784a button');\n",
       "      quickchartButtonEl.style.display =\n",
       "        google.colab.kernel.accessAllowed ? 'block' : 'none';\n",
       "    })();\n",
       "  </script>\n",
       "</div>\n",
       "    </div>\n",
       "  </div>\n"
      ],
      "text/plain": [
       "   Sepal_len_cm  Sepal_wid_cm  Petal_wid_cm  Petal_len_cm  Type\n",
       "0           4.9           3.0           1.4           0.2     0\n",
       "1           4.7           3.2           1.3           0.2     0\n",
       "2           4.6           3.1           1.5           0.2     0\n",
       "3           5.0           3.6           1.4           0.2     0\n",
       "4           5.4           3.9           1.7           0.4     0\n",
       "5           4.6           3.4           1.4           0.3     0\n",
       "6           5.0           3.4           1.5           0.2     0\n",
       "7           4.4           2.9           1.4           0.2     0\n",
       "8           4.9           3.1           1.5           0.1     0\n",
       "9           5.4           3.7           1.5           0.2     0"
      ]
     },
     "execution_count": 5,
     "metadata": {},
     "output_type": "execute_result"
    }
   ],
   "source": [
    "data = pd.read_csv(\"/content/drive/MyDrive/iris_virginca0.csv\")\n",
    "data.columns=['Sepal_len_cm','Sepal_wid_cm','Petal_wid_cm','Petal_len_cm','Type']\n",
    "data.head(10)"
   ]
  },
  {
   "cell_type": "code",
   "execution_count": null,
   "metadata": {
    "colab": {
     "base_uri": "https://localhost:8080/"
    },
    "id": "zjHkVaAVrBES",
    "outputId": "f79faf84-d463-4cfb-9df5-2000c22656db"
   },
   "outputs": [
    {
     "data": {
      "text/plain": [
       "(149, 5)"
      ]
     },
     "execution_count": 6,
     "metadata": {},
     "output_type": "execute_result"
    }
   ],
   "source": [
    "data.shape"
   ]
  },
  {
   "cell_type": "code",
   "execution_count": null,
   "metadata": {
    "id": "FpxwJADArF7t"
   },
   "outputs": [],
   "source": [
    "#Training\n",
    "#1.sigmoid\n",
    "#2.Tanh\n",
    "def activation_func(value):\n",
    "  return (1/(1+np.exp(-value)))\n",
    "  #return (np.exp(value)-np.exp(-value))/(np.exp(value)+np.exp(-value))"
   ]
  },
  {
   "cell_type": "code",
   "execution_count": null,
   "metadata": {
    "id": "BZVo94jOr9Ek"
   },
   "outputs": [],
   "source": [
    "def perceptron_train(in_data,labels,alpha):\n",
    "    X=np.array(in_data)\n",
    "    y=np.array(labels)\n",
    "    weights=np.random.random(X.shape[1])\n",
    "    original=weights\n",
    "    bias=np.random.random_sample()\n",
    "    for key in range(X.shape[0]):\n",
    "        a=activation_func(np.matmul(np.transpose(weights),X[key]))\n",
    "        yn=0\n",
    "        if a>=0.7:\n",
    "            yn=1\n",
    "        elif a<=(-0.7):\n",
    "            yn=-1\n",
    "        weights=weights+alpha*(yn-y[key])*X[key]\n",
    "        print('Iteration '+str(key)+': '+str(weights))\n",
    "    print('Difference: '+str(weights-original))\n",
    "    return weights\n"
   ]
  },
  {
   "cell_type": "code",
   "execution_count": null,
   "metadata": {
    "id": "It4KiCZUtdO4"
   },
   "outputs": [],
   "source": [
    "def perceptron_test(in_data,label_shape,weights):\n",
    "    X=np.array(in_data)\n",
    "    y=np.zeros(label_shape)\n",
    "    for key in range(X.shape[1]):\n",
    "        a=activation_func((weights*X[key]).sum())\n",
    "        y[key]=0\n",
    "        if a>=0.7:\n",
    "            y[key]=1\n",
    "        elif a<=(-0.7):\n",
    "            y[key]=-1\n",
    "    return y"
   ]
  },
  {
   "cell_type": "code",
   "execution_count": null,
   "metadata": {
    "id": "gvrSMWJxuyGR"
   },
   "outputs": [],
   "source": [
    "def score(result,labels):\n",
    "    difference=result-np.array(labels)\n",
    "    correct_ctr=0\n",
    "    for elem in range(difference.shape[0]):\n",
    "        if difference[elem]==0:\n",
    "            correct_ctr+=1\n",
    "    score=correct_ctr*100/difference.size\n",
    "    print('Score='+str(score))"
   ]
  },
  {
   "cell_type": "code",
   "execution_count": null,
   "metadata": {
    "id": "P-RW8KPLu34X"
   },
   "outputs": [],
   "source": [
    "divider = np.random.rand(len(data)) < 0.70\n",
    "d_train=data[divider]\n",
    "d_test=data[~divider]\n"
   ]
  },
  {
   "cell_type": "code",
   "execution_count": null,
   "metadata": {
    "id": "67RTx9hJu7Ly"
   },
   "outputs": [],
   "source": [
    "# Dividing d_train into data and labels/targets\n",
    "d_train_y=d_train['Type']\n",
    "d_train_X=d_train.drop(['Type'],axis=1)\n",
    "\n",
    "# Dividing d_train into data and labels/targets\n",
    "d_test_y=d_test['Type']\n",
    "d_test_X=d_test.drop(['Type'],axis=1)"
   ]
  },
  {
   "cell_type": "code",
   "execution_count": null,
   "metadata": {
    "colab": {
     "base_uri": "https://localhost:8080/"
    },
    "id": "i06r5ODUu-eo",
    "outputId": "0635ee51-382a-42db-a785-3864884c6184"
   },
   "outputs": [
    {
     "name": "stdout",
     "output_type": "stream",
     "text": [
      "Iteration 0: [0.90609922 0.57739043 0.61902386 0.5103917 ]\n",
      "Iteration 1: [0.95609922 0.61339043 0.63302386 0.5123917 ]\n",
      "Iteration 2: [1.01009922 0.65239043 0.65002386 0.5163917 ]\n",
      "Iteration 3: [1.05609922 0.68639043 0.66402386 0.5193917 ]\n",
      "Iteration 4: [1.10009922 0.71539043 0.67802386 0.5213917 ]\n",
      "Iteration 5: [1.14909922 0.74639043 0.69302386 0.5223917 ]\n",
      "Iteration 6: [1.20309922 0.78339043 0.70802386 0.5243917 ]\n",
      "Iteration 7: [1.25109922 0.81739043 0.72402386 0.5263917 ]\n",
      "Iteration 8: [1.29409922 0.84739043 0.73502386 0.5273917 ]\n",
      "Iteration 9: [1.35209922 0.88739043 0.74702386 0.5293917 ]\n",
      "Iteration 10: [1.40609922 0.92639043 0.76002386 0.5333917 ]\n",
      "Iteration 11: [1.46309922 0.96439043 0.77702386 0.5363917 ]\n",
      "Iteration 12: [1.51409922 1.00239043 0.79202386 0.5393917 ]\n",
      "Iteration 13: [1.56809922 1.03639043 0.80902386 0.5413917 ]\n",
      "Iteration 14: [1.61909922 1.07339043 0.82402386 0.5453917 ]\n",
      "Iteration 15: [1.66509922 1.10939043 0.83402386 0.5473917 ]\n",
      "Iteration 16: [1.71309922 1.14339043 0.85302386 0.5493917 ]\n",
      "Iteration 17: [1.76009922 1.17539043 0.86902386 0.5513917 ]\n",
      "Iteration 18: [1.80809922 1.20639043 0.88502386 0.5533917 ]\n",
      "Iteration 19: [1.86009922 1.24739043 0.90002386 0.5543917 ]\n",
      "Iteration 20: [1.91509922 1.28939043 0.91402386 0.5563917 ]\n",
      "Iteration 21: [1.97009922 1.32439043 0.92702386 0.5583917 ]\n",
      "Iteration 22: [2.02009922 1.35939043 0.94002386 0.5613917 ]\n",
      "Iteration 23: [2.06409922 1.39139043 0.95302386 0.5633917 ]\n",
      "Iteration 24: [2.11409922 1.42639043 0.96902386 0.5693917 ]\n",
      "Iteration 25: [2.16209922 1.45639043 0.98302386 0.5723917 ]\n",
      "Iteration 26: [2.21309922 1.49439043 0.99902386 0.5743917 ]\n",
      "Iteration 27: [2.25909922 1.52639043 1.01302386 0.5763917 ]\n",
      "Iteration 28: [2.31209922 1.56339043 1.02802386 0.5783917 ]\n",
      "Iteration 29: [2.36209922 1.59639043 1.04202386 0.5803917 ]\n",
      "Iteration 30: [2.50209922 1.66039043 1.13602386 0.6083917 ]\n",
      "Iteration 31: [2.63009922 1.72439043 1.22602386 0.6383917 ]\n",
      "Iteration 32: [2.76809922 1.78639043 1.32402386 0.6683917 ]\n",
      "Iteration 33: [2.87809922 1.83239043 1.40402386 0.6943917 ]\n",
      "Iteration 34: [3.00809922 1.88839043 1.49602386 0.7243917 ]\n",
      "Iteration 35: [3.12209922 1.94439043 1.58602386 0.7503917 ]\n",
      "Iteration 36: [3.22009922 1.99239043 1.65202386 0.7703917 ]\n",
      "Iteration 37: [3.35209922 2.05039043 1.74402386 0.7963917 ]\n",
      "Iteration 38: [3.45209922 2.09039043 1.81402386 0.8163917 ]\n",
      "Iteration 39: [3.57009922 2.15039043 1.89802386 0.8463917 ]\n",
      "Iteration 40: [3.69009922 2.19439043 1.97802386 0.8663917 ]\n",
      "Iteration 41: [3.81209922 2.25239043 2.07202386 0.8943917 ]\n",
      "Iteration 42: [3.94609922 2.31439043 2.16002386 0.9223917 ]\n",
      "Iteration 43: [4.06209922 2.36839043 2.24202386 0.9423917 ]\n",
      "Iteration 44: [4.18609922 2.41239043 2.33202386 0.9723917 ]\n",
      "Iteration 45: [4.29809922 2.46239043 2.41002386 0.9943917 ]\n",
      "Iteration 46: [4.41609922 2.52639043 2.50602386 1.0303917 ]\n",
      "Iteration 47: [4.53809922 2.58239043 2.58602386 1.0563917 ]\n",
      "Iteration 48: [4.66409922 2.63239043 2.68402386 1.0863917 ]\n",
      "Iteration 49: [4.78609922 2.68839043 2.77802386 1.1103917 ]\n",
      "Iteration 50: [4.91809922 2.74839043 2.86602386 1.1383917 ]\n",
      "Iteration 51: [5.05409922 2.80439043 2.96202386 1.1663917 ]\n",
      "Iteration 52: [5.16809922 2.85639043 3.03202386 1.1863917 ]\n",
      "Iteration 53: [5.27809922 2.90439043 3.10802386 1.2083917 ]\n",
      "Iteration 54: [5.38809922 2.95239043 3.18202386 1.2283917 ]\n",
      "Iteration 55: [5.50409922 3.00639043 3.26002386 1.2523917 ]\n",
      "Iteration 56: [5.62409922 3.06039043 3.36202386 1.2843917 ]\n",
      "Iteration 57: [5.73209922 3.12039043 3.45202386 1.3143917 ]\n",
      "Iteration 58: [5.85209922 3.18839043 3.54202386 1.3463917 ]\n",
      "Iteration 59: [5.97809922 3.23439043 3.63002386 1.3723917 ]\n",
      "Iteration 60: [6.09009922 3.29439043 3.71202386 1.3983917 ]\n",
      "Iteration 61: [6.20009922 3.34439043 3.79202386 1.4243917 ]\n",
      "Iteration 62: [6.31009922 3.39639043 3.88002386 1.4483917 ]\n",
      "Iteration 63: [6.43209922 3.45639043 3.97202386 1.4763917 ]\n",
      "Iteration 64: [6.54809922 3.50839043 4.05202386 1.5003917 ]\n",
      "Iteration 65: [6.66209922 3.56639043 4.13602386 1.5263917 ]\n",
      "Iteration 66: [6.78609922 3.62439043 4.22202386 1.5523917 ]\n",
      "Iteration 67: [6.88809922 3.67439043 4.28202386 1.5743917 ]\n",
      "Iteration 68: [6.88809922 3.67439043 4.28202386 1.5743917 ]\n",
      "Iteration 69: [6.88809922 3.67439043 4.28202386 1.5743917 ]\n",
      "Iteration 70: [6.88809922 3.67439043 4.28202386 1.5743917 ]\n",
      "Iteration 71: [6.88809922 3.67439043 4.28202386 1.5743917 ]\n",
      "Iteration 72: [6.88809922 3.67439043 4.28202386 1.5743917 ]\n",
      "Iteration 73: [6.88809922 3.67439043 4.28202386 1.5743917 ]\n",
      "Iteration 74: [6.88809922 3.67439043 4.28202386 1.5743917 ]\n",
      "Iteration 75: [6.88809922 3.67439043 4.28202386 1.5743917 ]\n",
      "Iteration 76: [6.88809922 3.67439043 4.28202386 1.5743917 ]\n",
      "Iteration 77: [6.88809922 3.67439043 4.28202386 1.5743917 ]\n",
      "Iteration 78: [6.88809922 3.67439043 4.28202386 1.5743917 ]\n",
      "Iteration 79: [6.88809922 3.67439043 4.28202386 1.5743917 ]\n",
      "Iteration 80: [6.88809922 3.67439043 4.28202386 1.5743917 ]\n",
      "Iteration 81: [6.88809922 3.67439043 4.28202386 1.5743917 ]\n",
      "Iteration 82: [6.88809922 3.67439043 4.28202386 1.5743917 ]\n",
      "Iteration 83: [6.88809922 3.67439043 4.28202386 1.5743917 ]\n",
      "Iteration 84: [6.88809922 3.67439043 4.28202386 1.5743917 ]\n",
      "Iteration 85: [6.88809922 3.67439043 4.28202386 1.5743917 ]\n",
      "Iteration 86: [6.88809922 3.67439043 4.28202386 1.5743917 ]\n",
      "Iteration 87: [6.88809922 3.67439043 4.28202386 1.5743917 ]\n",
      "Iteration 88: [6.88809922 3.67439043 4.28202386 1.5743917 ]\n",
      "Iteration 89: [6.88809922 3.67439043 4.28202386 1.5743917 ]\n",
      "Iteration 90: [6.88809922 3.67439043 4.28202386 1.5743917 ]\n",
      "Iteration 91: [6.88809922 3.67439043 4.28202386 1.5743917 ]\n",
      "Iteration 92: [6.88809922 3.67439043 4.28202386 1.5743917 ]\n",
      "Iteration 93: [6.88809922 3.67439043 4.28202386 1.5743917 ]\n",
      "Iteration 94: [6.88809922 3.67439043 4.28202386 1.5743917 ]\n",
      "Iteration 95: [6.88809922 3.67439043 4.28202386 1.5743917 ]\n",
      "Iteration 96: [6.88809922 3.67439043 4.28202386 1.5743917 ]\n",
      "Iteration 97: [6.88809922 3.67439043 4.28202386 1.5743917 ]\n",
      "Iteration 98: [6.88809922 3.67439043 4.28202386 1.5743917 ]\n",
      "Iteration 99: [6.88809922 3.67439043 4.28202386 1.5743917 ]\n",
      "Iteration 100: [6.88809922 3.67439043 4.28202386 1.5743917 ]\n",
      "Iteration 101: [6.88809922 3.67439043 4.28202386 1.5743917 ]\n",
      "Iteration 102: [6.88809922 3.67439043 4.28202386 1.5743917 ]\n",
      "Iteration 103: [6.88809922 3.67439043 4.28202386 1.5743917 ]\n",
      "Iteration 104: [6.88809922 3.67439043 4.28202386 1.5743917 ]\n",
      "Iteration 105: [6.88809922 3.67439043 4.28202386 1.5743917 ]\n",
      "Difference: [6.031 3.127 3.677 1.066]\n"
     ]
    }
   ],
   "source": [
    "# Learning rate\n",
    "alpha = 0.01\n",
    "\n",
    "# Train\n",
    "weights = perceptron_train(d_train_X, d_train_y, alpha)"
   ]
  },
  {
   "cell_type": "code",
   "execution_count": null,
   "metadata": {
    "id": "Bb1wXLesvzCs"
   },
   "outputs": [],
   "source": [
    "# Test\n",
    "result_test=perceptron_test(d_test_X,d_test_y.shape,weights)"
   ]
  },
  {
   "cell_type": "code",
   "execution_count": null,
   "metadata": {
    "colab": {
     "base_uri": "https://localhost:8080/"
    },
    "id": "tiWQ-rRkv35g",
    "outputId": "70a9cb2c-d10d-44d1-da73-99e86563bb46"
   },
   "outputs": [
    {
     "name": "stdout",
     "output_type": "stream",
     "text": [
      "Score=34.883720930232556\n"
     ]
    }
   ],
   "source": [
    "# Calculate score\n",
    "score(result_test,d_test_y)"
   ]
  }
 ],
 "metadata": {
  "colab": {
   "provenance": []
  },
  "kernelspec": {
   "display_name": "Python 3 (ipykernel)",
   "language": "python",
   "name": "python3"
  },
  "language_info": {
   "codemirror_mode": {
    "name": "ipython",
    "version": 3
   },
   "file_extension": ".py",
   "mimetype": "text/x-python",
   "name": "python",
   "nbconvert_exporter": "python",
   "pygments_lexer": "ipython3",
   "version": "3.11.5"
  }
 },
 "nbformat": 4,
 "nbformat_minor": 1
}
