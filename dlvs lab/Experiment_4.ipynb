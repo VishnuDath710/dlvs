{
  "nbformat": 4,
  "nbformat_minor": 0,
  "metadata": {
    "colab": {
      "provenance": []
    },
    "kernelspec": {
      "name": "python3",
      "display_name": "Python 3"
    },
    "language_info": {
      "name": "python"
    }
  },
  "cells": [
    {
      "cell_type": "markdown",
      "source": [
        "Importing lib"
      ],
      "metadata": {
        "id": "GM95bOcJhj3l"
      }
    },
    {
      "cell_type": "code",
      "source": [
        "import tensorflow as tf\n",
        "from tensorflow.keras import layers, models\n",
        "from tensorflow.keras.datasets import mnist"
      ],
      "metadata": {
        "id": "G3lFhS2iiT3d"
      },
      "execution_count": null,
      "outputs": []
    },
    {
      "cell_type": "code",
      "source": [
        "(train_images, train_labels), (test_images, test_labels) = mnist.load_data()\n",
        "train_images = train_images.reshape((60000, 28, 28, 1)).astype('float32') / 255\n",
        "test_images = test_images.reshape((10000, 28, 28, 1)).astype('float32') / 255"
      ],
      "metadata": {
        "id": "fOXZhab3iX7c"
      },
      "execution_count": null,
      "outputs": []
    },
    {
      "cell_type": "code",
      "source": [
        "train_labels = tf.keras.utils.to_categorical(train_labels)\n",
        "test_labels = tf.keras.utils.to_categorical(test_labels)"
      ],
      "metadata": {
        "id": "iH1txgJWibDN"
      },
      "execution_count": null,
      "outputs": []
    },
    {
      "cell_type": "code",
      "source": [
        "# Build the MLP model\n",
        "model = models.Sequential()\n",
        "model.add(layers.Flatten(input_shape=(28, 28, 1)))\n",
        "model.add(layers.Dense(128, activation='relu'))\n",
        "model.add(layers.Dropout(0.5))\n",
        "model.add(layers.Dense(10, activation='softmax'))"
      ],
      "metadata": {
        "id": "hCV5mgvXifkt"
      },
      "execution_count": null,
      "outputs": []
    },
    {
      "cell_type": "code",
      "source": [
        "# Compile the model\n",
        "model.compile(optimizer='adam',\n",
        "              loss='categorical_crossentropy',\n",
        "              metrics=['accuracy'])\n"
      ],
      "metadata": {
        "id": "ROW60CF-ieRe"
      },
      "execution_count": null,
      "outputs": []
    },
    {
      "cell_type": "code",
      "source": [
        "# Train the model\n",
        "model.fit(train_images, train_labels, epochs=5, batch_size=64, validation_split=0.2)"
      ],
      "metadata": {
        "colab": {
          "base_uri": "https://localhost:8080/"
        },
        "id": "e5QBM8IJihL_",
        "outputId": "9056fcd3-3d54-4acd-edcc-1f03378ef1d0"
      },
      "execution_count": null,
      "outputs": [
        {
          "output_type": "stream",
          "name": "stdout",
          "text": [
            "Epoch 1/5\n",
            "750/750 [==============================] - 5s 6ms/step - loss: 0.4840 - accuracy: 0.8577 - val_loss: 0.2086 - val_accuracy: 0.9409\n",
            "Epoch 2/5\n",
            "750/750 [==============================] - 4s 5ms/step - loss: 0.2583 - accuracy: 0.9238 - val_loss: 0.1538 - val_accuracy: 0.9551\n",
            "Epoch 3/5\n",
            "750/750 [==============================] - 7s 9ms/step - loss: 0.2101 - accuracy: 0.9383 - val_loss: 0.1293 - val_accuracy: 0.9622\n",
            "Epoch 4/5\n",
            "750/750 [==============================] - 4s 6ms/step - loss: 0.1832 - accuracy: 0.9466 - val_loss: 0.1172 - val_accuracy: 0.9651\n",
            "Epoch 5/5\n",
            "750/750 [==============================] - 4s 5ms/step - loss: 0.1663 - accuracy: 0.9508 - val_loss: 0.1116 - val_accuracy: 0.9667\n"
          ]
        }
      ]
    },
    {
      "cell_type": "code",
      "execution_count": null,
      "metadata": {
        "colab": {
          "base_uri": "https://localhost:8080/"
        },
        "id": "Sp1tHqpXgzYy",
        "outputId": "493b150c-d8e8-4506-b5fb-bd75c3a4623c"
      },
      "outputs": [
        {
          "output_type": "stream",
          "name": "stdout",
          "text": [
            "Downloading data from https://storage.googleapis.com/tensorflow/tf-keras-datasets/mnist.npz\n",
            "11490434/11490434 [==============================] - 0s 0us/step\n",
            "Epoch 1/5\n",
            "750/750 [==============================] - 6s 6ms/step - loss: 0.4737 - accuracy: 0.8606 - val_loss: 0.2041 - val_accuracy: 0.9442\n",
            "Epoch 2/5\n",
            "750/750 [==============================] - 4s 5ms/step - loss: 0.2598 - accuracy: 0.9251 - val_loss: 0.1580 - val_accuracy: 0.9545\n",
            "Epoch 3/5\n",
            "750/750 [==============================] - 4s 6ms/step - loss: 0.2126 - accuracy: 0.9383 - val_loss: 0.1360 - val_accuracy: 0.9599\n",
            "Epoch 4/5\n",
            "750/750 [==============================] - 6s 8ms/step - loss: 0.1863 - accuracy: 0.9446 - val_loss: 0.1213 - val_accuracy: 0.9648\n",
            "Epoch 5/5\n",
            "750/750 [==============================] - 4s 5ms/step - loss: 0.1690 - accuracy: 0.9493 - val_loss: 0.1083 - val_accuracy: 0.9691\n",
            "313/313 [==============================] - 1s 2ms/step - loss: 0.1050 - accuracy: 0.9689\n",
            "Test accuracy: 0.9689000248908997\n"
          ]
        }
      ],
      "source": [
        "# Evaluate the model\n",
        "test_loss, test_acc = model.evaluate(test_images, test_labels)\n",
        "print(f'Test accuracy: {test_acc}')"
      ]
    },
    {
      "cell_type": "code",
      "source": [],
      "metadata": {
        "id": "JxmpgtgnhF8j"
      },
      "execution_count": null,
      "outputs": []
    }
  ]
}