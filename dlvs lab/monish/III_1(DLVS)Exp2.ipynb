{
  "nbformat": 4,
  "nbformat_minor": 0,
  "metadata": {
    "colab": {
      "provenance": []
    },
    "kernelspec": {
      "name": "python3",
      "display_name": "Python 3"
    },
    "language_info": {
      "name": "python"
    }
  },
  "cells": [
    {
      "cell_type": "code",
      "source": [],
      "metadata": {
        "id": "GGb0CIjd28rA"
      },
      "execution_count": null,
      "outputs": []
    },
    {
      "cell_type": "code",
      "source": [
        "from google.colab import drive\n",
        "drive.mount('/content/drive')"
      ],
      "metadata": {
        "colab": {
          "base_uri": "https://localhost:8080/"
        },
        "id": "_XgRsr1w2-kD",
        "outputId": "7e2ee029-7a71-48d4-d409-565e60fa1323"
      },
      "execution_count": null,
      "outputs": [
        {
          "output_type": "stream",
          "name": "stdout",
          "text": [
            "Drive already mounted at /content/drive; to attempt to forcibly remount, call drive.mount(\"/content/drive\", force_remount=True).\n"
          ]
        }
      ]
    },
    {
      "cell_type": "code",
      "execution_count": null,
      "metadata": {
        "id": "LT21DOpbxPJf"
      },
      "outputs": [],
      "source": [
        "import pandas as pd\n",
        "import numpy as np\n",
        "import tensorflow as tf\n"
      ]
    },
    {
      "cell_type": "code",
      "source": [
        "df = pd.read_csv(\"/content/drive/MyDrive/housing.csv.zip\")\n",
        "df\n"
      ],
      "metadata": {
        "colab": {
          "base_uri": "https://localhost:8080/",
          "height": 423
        },
        "id": "x-E-xLHByyXe",
        "outputId": "241d9f12-be9a-4a29-d449-d8b4b4d0feab"
      },
      "execution_count": null,
      "outputs": [
        {
          "output_type": "execute_result",
          "data": {
            "text/plain": [
              "       longitude  latitude  housing_median_age  total_rooms  total_bedrooms  \\\n",
              "0        -122.23     37.88                41.0        880.0           129.0   \n",
              "1        -122.22     37.86                21.0       7099.0          1106.0   \n",
              "2        -122.24     37.85                52.0       1467.0           190.0   \n",
              "3        -122.25     37.85                52.0       1274.0           235.0   \n",
              "4        -122.25     37.85                52.0       1627.0           280.0   \n",
              "...          ...       ...                 ...          ...             ...   \n",
              "20635    -121.09     39.48                25.0       1665.0           374.0   \n",
              "20636    -121.21     39.49                18.0        697.0           150.0   \n",
              "20637    -121.22     39.43                17.0       2254.0           485.0   \n",
              "20638    -121.32     39.43                18.0       1860.0           409.0   \n",
              "20639    -121.24     39.37                16.0       2785.0           616.0   \n",
              "\n",
              "       population  households  median_income  median_house_value  \\\n",
              "0           322.0       126.0         8.3252            452600.0   \n",
              "1          2401.0      1138.0         8.3014            358500.0   \n",
              "2           496.0       177.0         7.2574            352100.0   \n",
              "3           558.0       219.0         5.6431            341300.0   \n",
              "4           565.0       259.0         3.8462            342200.0   \n",
              "...           ...         ...            ...                 ...   \n",
              "20635       845.0       330.0         1.5603             78100.0   \n",
              "20636       356.0       114.0         2.5568             77100.0   \n",
              "20637      1007.0       433.0         1.7000             92300.0   \n",
              "20638       741.0       349.0         1.8672             84700.0   \n",
              "20639      1387.0       530.0         2.3886             89400.0   \n",
              "\n",
              "      ocean_proximity  \n",
              "0            NEAR BAY  \n",
              "1            NEAR BAY  \n",
              "2            NEAR BAY  \n",
              "3            NEAR BAY  \n",
              "4            NEAR BAY  \n",
              "...               ...  \n",
              "20635          INLAND  \n",
              "20636          INLAND  \n",
              "20637          INLAND  \n",
              "20638          INLAND  \n",
              "20639          INLAND  \n",
              "\n",
              "[20640 rows x 10 columns]"
            ],
            "text/html": [
              "\n",
              "  <div id=\"df-915c349d-a0fa-4b3c-aa76-fd089582063c\" class=\"colab-df-container\">\n",
              "    <div>\n",
              "<style scoped>\n",
              "    .dataframe tbody tr th:only-of-type {\n",
              "        vertical-align: middle;\n",
              "    }\n",
              "\n",
              "    .dataframe tbody tr th {\n",
              "        vertical-align: top;\n",
              "    }\n",
              "\n",
              "    .dataframe thead th {\n",
              "        text-align: right;\n",
              "    }\n",
              "</style>\n",
              "<table border=\"1\" class=\"dataframe\">\n",
              "  <thead>\n",
              "    <tr style=\"text-align: right;\">\n",
              "      <th></th>\n",
              "      <th>longitude</th>\n",
              "      <th>latitude</th>\n",
              "      <th>housing_median_age</th>\n",
              "      <th>total_rooms</th>\n",
              "      <th>total_bedrooms</th>\n",
              "      <th>population</th>\n",
              "      <th>households</th>\n",
              "      <th>median_income</th>\n",
              "      <th>median_house_value</th>\n",
              "      <th>ocean_proximity</th>\n",
              "    </tr>\n",
              "  </thead>\n",
              "  <tbody>\n",
              "    <tr>\n",
              "      <th>0</th>\n",
              "      <td>-122.23</td>\n",
              "      <td>37.88</td>\n",
              "      <td>41.0</td>\n",
              "      <td>880.0</td>\n",
              "      <td>129.0</td>\n",
              "      <td>322.0</td>\n",
              "      <td>126.0</td>\n",
              "      <td>8.3252</td>\n",
              "      <td>452600.0</td>\n",
              "      <td>NEAR BAY</td>\n",
              "    </tr>\n",
              "    <tr>\n",
              "      <th>1</th>\n",
              "      <td>-122.22</td>\n",
              "      <td>37.86</td>\n",
              "      <td>21.0</td>\n",
              "      <td>7099.0</td>\n",
              "      <td>1106.0</td>\n",
              "      <td>2401.0</td>\n",
              "      <td>1138.0</td>\n",
              "      <td>8.3014</td>\n",
              "      <td>358500.0</td>\n",
              "      <td>NEAR BAY</td>\n",
              "    </tr>\n",
              "    <tr>\n",
              "      <th>2</th>\n",
              "      <td>-122.24</td>\n",
              "      <td>37.85</td>\n",
              "      <td>52.0</td>\n",
              "      <td>1467.0</td>\n",
              "      <td>190.0</td>\n",
              "      <td>496.0</td>\n",
              "      <td>177.0</td>\n",
              "      <td>7.2574</td>\n",
              "      <td>352100.0</td>\n",
              "      <td>NEAR BAY</td>\n",
              "    </tr>\n",
              "    <tr>\n",
              "      <th>3</th>\n",
              "      <td>-122.25</td>\n",
              "      <td>37.85</td>\n",
              "      <td>52.0</td>\n",
              "      <td>1274.0</td>\n",
              "      <td>235.0</td>\n",
              "      <td>558.0</td>\n",
              "      <td>219.0</td>\n",
              "      <td>5.6431</td>\n",
              "      <td>341300.0</td>\n",
              "      <td>NEAR BAY</td>\n",
              "    </tr>\n",
              "    <tr>\n",
              "      <th>4</th>\n",
              "      <td>-122.25</td>\n",
              "      <td>37.85</td>\n",
              "      <td>52.0</td>\n",
              "      <td>1627.0</td>\n",
              "      <td>280.0</td>\n",
              "      <td>565.0</td>\n",
              "      <td>259.0</td>\n",
              "      <td>3.8462</td>\n",
              "      <td>342200.0</td>\n",
              "      <td>NEAR BAY</td>\n",
              "    </tr>\n",
              "    <tr>\n",
              "      <th>...</th>\n",
              "      <td>...</td>\n",
              "      <td>...</td>\n",
              "      <td>...</td>\n",
              "      <td>...</td>\n",
              "      <td>...</td>\n",
              "      <td>...</td>\n",
              "      <td>...</td>\n",
              "      <td>...</td>\n",
              "      <td>...</td>\n",
              "      <td>...</td>\n",
              "    </tr>\n",
              "    <tr>\n",
              "      <th>20635</th>\n",
              "      <td>-121.09</td>\n",
              "      <td>39.48</td>\n",
              "      <td>25.0</td>\n",
              "      <td>1665.0</td>\n",
              "      <td>374.0</td>\n",
              "      <td>845.0</td>\n",
              "      <td>330.0</td>\n",
              "      <td>1.5603</td>\n",
              "      <td>78100.0</td>\n",
              "      <td>INLAND</td>\n",
              "    </tr>\n",
              "    <tr>\n",
              "      <th>20636</th>\n",
              "      <td>-121.21</td>\n",
              "      <td>39.49</td>\n",
              "      <td>18.0</td>\n",
              "      <td>697.0</td>\n",
              "      <td>150.0</td>\n",
              "      <td>356.0</td>\n",
              "      <td>114.0</td>\n",
              "      <td>2.5568</td>\n",
              "      <td>77100.0</td>\n",
              "      <td>INLAND</td>\n",
              "    </tr>\n",
              "    <tr>\n",
              "      <th>20637</th>\n",
              "      <td>-121.22</td>\n",
              "      <td>39.43</td>\n",
              "      <td>17.0</td>\n",
              "      <td>2254.0</td>\n",
              "      <td>485.0</td>\n",
              "      <td>1007.0</td>\n",
              "      <td>433.0</td>\n",
              "      <td>1.7000</td>\n",
              "      <td>92300.0</td>\n",
              "      <td>INLAND</td>\n",
              "    </tr>\n",
              "    <tr>\n",
              "      <th>20638</th>\n",
              "      <td>-121.32</td>\n",
              "      <td>39.43</td>\n",
              "      <td>18.0</td>\n",
              "      <td>1860.0</td>\n",
              "      <td>409.0</td>\n",
              "      <td>741.0</td>\n",
              "      <td>349.0</td>\n",
              "      <td>1.8672</td>\n",
              "      <td>84700.0</td>\n",
              "      <td>INLAND</td>\n",
              "    </tr>\n",
              "    <tr>\n",
              "      <th>20639</th>\n",
              "      <td>-121.24</td>\n",
              "      <td>39.37</td>\n",
              "      <td>16.0</td>\n",
              "      <td>2785.0</td>\n",
              "      <td>616.0</td>\n",
              "      <td>1387.0</td>\n",
              "      <td>530.0</td>\n",
              "      <td>2.3886</td>\n",
              "      <td>89400.0</td>\n",
              "      <td>INLAND</td>\n",
              "    </tr>\n",
              "  </tbody>\n",
              "</table>\n",
              "<p>20640 rows × 10 columns</p>\n",
              "</div>\n",
              "    <div class=\"colab-df-buttons\">\n",
              "\n",
              "  <div class=\"colab-df-container\">\n",
              "    <button class=\"colab-df-convert\" onclick=\"convertToInteractive('df-915c349d-a0fa-4b3c-aa76-fd089582063c')\"\n",
              "            title=\"Convert this dataframe to an interactive table.\"\n",
              "            style=\"display:none;\">\n",
              "\n",
              "  <svg xmlns=\"http://www.w3.org/2000/svg\" height=\"24px\" viewBox=\"0 -960 960 960\">\n",
              "    <path d=\"M120-120v-720h720v720H120Zm60-500h600v-160H180v160Zm220 220h160v-160H400v160Zm0 220h160v-160H400v160ZM180-400h160v-160H180v160Zm440 0h160v-160H620v160ZM180-180h160v-160H180v160Zm440 0h160v-160H620v160Z\"/>\n",
              "  </svg>\n",
              "    </button>\n",
              "\n",
              "  <style>\n",
              "    .colab-df-container {\n",
              "      display:flex;\n",
              "      gap: 12px;\n",
              "    }\n",
              "\n",
              "    .colab-df-convert {\n",
              "      background-color: #E8F0FE;\n",
              "      border: none;\n",
              "      border-radius: 50%;\n",
              "      cursor: pointer;\n",
              "      display: none;\n",
              "      fill: #1967D2;\n",
              "      height: 32px;\n",
              "      padding: 0 0 0 0;\n",
              "      width: 32px;\n",
              "    }\n",
              "\n",
              "    .colab-df-convert:hover {\n",
              "      background-color: #E2EBFA;\n",
              "      box-shadow: 0px 1px 2px rgba(60, 64, 67, 0.3), 0px 1px 3px 1px rgba(60, 64, 67, 0.15);\n",
              "      fill: #174EA6;\n",
              "    }\n",
              "\n",
              "    .colab-df-buttons div {\n",
              "      margin-bottom: 4px;\n",
              "    }\n",
              "\n",
              "    [theme=dark] .colab-df-convert {\n",
              "      background-color: #3B4455;\n",
              "      fill: #D2E3FC;\n",
              "    }\n",
              "\n",
              "    [theme=dark] .colab-df-convert:hover {\n",
              "      background-color: #434B5C;\n",
              "      box-shadow: 0px 1px 3px 1px rgba(0, 0, 0, 0.15);\n",
              "      filter: drop-shadow(0px 1px 2px rgba(0, 0, 0, 0.3));\n",
              "      fill: #FFFFFF;\n",
              "    }\n",
              "  </style>\n",
              "\n",
              "    <script>\n",
              "      const buttonEl =\n",
              "        document.querySelector('#df-915c349d-a0fa-4b3c-aa76-fd089582063c button.colab-df-convert');\n",
              "      buttonEl.style.display =\n",
              "        google.colab.kernel.accessAllowed ? 'block' : 'none';\n",
              "\n",
              "      async function convertToInteractive(key) {\n",
              "        const element = document.querySelector('#df-915c349d-a0fa-4b3c-aa76-fd089582063c');\n",
              "        const dataTable =\n",
              "          await google.colab.kernel.invokeFunction('convertToInteractive',\n",
              "                                                    [key], {});\n",
              "        if (!dataTable) return;\n",
              "\n",
              "        const docLinkHtml = 'Like what you see? Visit the ' +\n",
              "          '<a target=\"_blank\" href=https://colab.research.google.com/notebooks/data_table.ipynb>data table notebook</a>'\n",
              "          + ' to learn more about interactive tables.';\n",
              "        element.innerHTML = '';\n",
              "        dataTable['output_type'] = 'display_data';\n",
              "        await google.colab.output.renderOutput(dataTable, element);\n",
              "        const docLink = document.createElement('div');\n",
              "        docLink.innerHTML = docLinkHtml;\n",
              "        element.appendChild(docLink);\n",
              "      }\n",
              "    </script>\n",
              "  </div>\n",
              "\n",
              "\n",
              "<div id=\"df-b0d35148-76d2-4fb8-bddc-15d14e508a60\">\n",
              "  <button class=\"colab-df-quickchart\" onclick=\"quickchart('df-b0d35148-76d2-4fb8-bddc-15d14e508a60')\"\n",
              "            title=\"Suggest charts.\"\n",
              "            style=\"display:none;\">\n",
              "\n",
              "<svg xmlns=\"http://www.w3.org/2000/svg\" height=\"24px\"viewBox=\"0 0 24 24\"\n",
              "     width=\"24px\">\n",
              "    <g>\n",
              "        <path d=\"M19 3H5c-1.1 0-2 .9-2 2v14c0 1.1.9 2 2 2h14c1.1 0 2-.9 2-2V5c0-1.1-.9-2-2-2zM9 17H7v-7h2v7zm4 0h-2V7h2v10zm4 0h-2v-4h2v4z\"/>\n",
              "    </g>\n",
              "</svg>\n",
              "  </button>\n",
              "\n",
              "<style>\n",
              "  .colab-df-quickchart {\n",
              "      --bg-color: #E8F0FE;\n",
              "      --fill-color: #1967D2;\n",
              "      --hover-bg-color: #E2EBFA;\n",
              "      --hover-fill-color: #174EA6;\n",
              "      --disabled-fill-color: #AAA;\n",
              "      --disabled-bg-color: #DDD;\n",
              "  }\n",
              "\n",
              "  [theme=dark] .colab-df-quickchart {\n",
              "      --bg-color: #3B4455;\n",
              "      --fill-color: #D2E3FC;\n",
              "      --hover-bg-color: #434B5C;\n",
              "      --hover-fill-color: #FFFFFF;\n",
              "      --disabled-bg-color: #3B4455;\n",
              "      --disabled-fill-color: #666;\n",
              "  }\n",
              "\n",
              "  .colab-df-quickchart {\n",
              "    background-color: var(--bg-color);\n",
              "    border: none;\n",
              "    border-radius: 50%;\n",
              "    cursor: pointer;\n",
              "    display: none;\n",
              "    fill: var(--fill-color);\n",
              "    height: 32px;\n",
              "    padding: 0;\n",
              "    width: 32px;\n",
              "  }\n",
              "\n",
              "  .colab-df-quickchart:hover {\n",
              "    background-color: var(--hover-bg-color);\n",
              "    box-shadow: 0 1px 2px rgba(60, 64, 67, 0.3), 0 1px 3px 1px rgba(60, 64, 67, 0.15);\n",
              "    fill: var(--button-hover-fill-color);\n",
              "  }\n",
              "\n",
              "  .colab-df-quickchart-complete:disabled,\n",
              "  .colab-df-quickchart-complete:disabled:hover {\n",
              "    background-color: var(--disabled-bg-color);\n",
              "    fill: var(--disabled-fill-color);\n",
              "    box-shadow: none;\n",
              "  }\n",
              "\n",
              "  .colab-df-spinner {\n",
              "    border: 2px solid var(--fill-color);\n",
              "    border-color: transparent;\n",
              "    border-bottom-color: var(--fill-color);\n",
              "    animation:\n",
              "      spin 1s steps(1) infinite;\n",
              "  }\n",
              "\n",
              "  @keyframes spin {\n",
              "    0% {\n",
              "      border-color: transparent;\n",
              "      border-bottom-color: var(--fill-color);\n",
              "      border-left-color: var(--fill-color);\n",
              "    }\n",
              "    20% {\n",
              "      border-color: transparent;\n",
              "      border-left-color: var(--fill-color);\n",
              "      border-top-color: var(--fill-color);\n",
              "    }\n",
              "    30% {\n",
              "      border-color: transparent;\n",
              "      border-left-color: var(--fill-color);\n",
              "      border-top-color: var(--fill-color);\n",
              "      border-right-color: var(--fill-color);\n",
              "    }\n",
              "    40% {\n",
              "      border-color: transparent;\n",
              "      border-right-color: var(--fill-color);\n",
              "      border-top-color: var(--fill-color);\n",
              "    }\n",
              "    60% {\n",
              "      border-color: transparent;\n",
              "      border-right-color: var(--fill-color);\n",
              "    }\n",
              "    80% {\n",
              "      border-color: transparent;\n",
              "      border-right-color: var(--fill-color);\n",
              "      border-bottom-color: var(--fill-color);\n",
              "    }\n",
              "    90% {\n",
              "      border-color: transparent;\n",
              "      border-bottom-color: var(--fill-color);\n",
              "    }\n",
              "  }\n",
              "</style>\n",
              "\n",
              "  <script>\n",
              "    async function quickchart(key) {\n",
              "      const quickchartButtonEl =\n",
              "        document.querySelector('#' + key + ' button');\n",
              "      quickchartButtonEl.disabled = true;  // To prevent multiple clicks.\n",
              "      quickchartButtonEl.classList.add('colab-df-spinner');\n",
              "      try {\n",
              "        const charts = await google.colab.kernel.invokeFunction(\n",
              "            'suggestCharts', [key], {});\n",
              "      } catch (error) {\n",
              "        console.error('Error during call to suggestCharts:', error);\n",
              "      }\n",
              "      quickchartButtonEl.classList.remove('colab-df-spinner');\n",
              "      quickchartButtonEl.classList.add('colab-df-quickchart-complete');\n",
              "    }\n",
              "    (() => {\n",
              "      let quickchartButtonEl =\n",
              "        document.querySelector('#df-b0d35148-76d2-4fb8-bddc-15d14e508a60 button');\n",
              "      quickchartButtonEl.style.display =\n",
              "        google.colab.kernel.accessAllowed ? 'block' : 'none';\n",
              "    })();\n",
              "  </script>\n",
              "</div>\n",
              "    </div>\n",
              "  </div>\n"
            ]
          },
          "metadata": {},
          "execution_count": 26
        }
      ]
    },
    {
      "cell_type": "code",
      "source": [
        "df.shape"
      ],
      "metadata": {
        "colab": {
          "base_uri": "https://localhost:8080/"
        },
        "id": "LvgFAmASzomJ",
        "outputId": "480a95f3-743c-4a93-96be-b2d650f305a3"
      },
      "execution_count": null,
      "outputs": [
        {
          "output_type": "execute_result",
          "data": {
            "text/plain": [
              "(20640, 10)"
            ]
          },
          "metadata": {},
          "execution_count": 27
        }
      ]
    },
    {
      "cell_type": "code",
      "source": [
        "df.columns"
      ],
      "metadata": {
        "colab": {
          "base_uri": "https://localhost:8080/"
        },
        "id": "ocUd05c2zydG",
        "outputId": "cab4af7c-04f5-4845-b3b3-e9b94bca5ef1"
      },
      "execution_count": null,
      "outputs": [
        {
          "output_type": "execute_result",
          "data": {
            "text/plain": [
              "Index(['longitude', 'latitude', 'housing_median_age', 'total_rooms',\n",
              "       'total_bedrooms', 'population', 'households', 'median_income',\n",
              "       'median_house_value', 'ocean_proximity'],\n",
              "      dtype='object')"
            ]
          },
          "metadata": {},
          "execution_count": 28
        }
      ]
    },
    {
      "cell_type": "code",
      "source": [
        "df.isnull().sum()"
      ],
      "metadata": {
        "colab": {
          "base_uri": "https://localhost:8080/"
        },
        "id": "Hi-RtNQzz1z6",
        "outputId": "a6f961b7-3577-4bf3-8c5d-4ecd318bd03f"
      },
      "execution_count": null,
      "outputs": [
        {
          "output_type": "execute_result",
          "data": {
            "text/plain": [
              "longitude               0\n",
              "latitude                0\n",
              "housing_median_age      0\n",
              "total_rooms             0\n",
              "total_bedrooms        207\n",
              "population              0\n",
              "households              0\n",
              "median_income           0\n",
              "median_house_value      0\n",
              "ocean_proximity         0\n",
              "dtype: int64"
            ]
          },
          "metadata": {},
          "execution_count": 29
        }
      ]
    },
    {
      "cell_type": "code",
      "source": [
        "df.corr()[['median_income','median_house_value']]"
      ],
      "metadata": {
        "colab": {
          "base_uri": "https://localhost:8080/",
          "height": 386
        },
        "id": "L7Q_Owqkz6tq",
        "outputId": "55b91994-6845-4082-9d30-083983a49226"
      },
      "execution_count": null,
      "outputs": [
        {
          "output_type": "stream",
          "name": "stderr",
          "text": [
            "<ipython-input-30-ed0eb7a494d8>:1: FutureWarning: The default value of numeric_only in DataFrame.corr is deprecated. In a future version, it will default to False. Select only valid columns or specify the value of numeric_only to silence this warning.\n",
            "  df.corr()[['median_income','median_house_value']]\n"
          ]
        },
        {
          "output_type": "execute_result",
          "data": {
            "text/plain": [
              "                    median_income  median_house_value\n",
              "longitude               -0.015176           -0.045967\n",
              "latitude                -0.079809           -0.144160\n",
              "housing_median_age      -0.119034            0.105623\n",
              "total_rooms              0.198050            0.134153\n",
              "total_bedrooms          -0.007723            0.049686\n",
              "population               0.004834           -0.024650\n",
              "households               0.013033            0.065843\n",
              "median_income            1.000000            0.688075\n",
              "median_house_value       0.688075            1.000000"
            ],
            "text/html": [
              "\n",
              "  <div id=\"df-3d40b39b-00e7-4270-9e03-f4516fb5eede\" class=\"colab-df-container\">\n",
              "    <div>\n",
              "<style scoped>\n",
              "    .dataframe tbody tr th:only-of-type {\n",
              "        vertical-align: middle;\n",
              "    }\n",
              "\n",
              "    .dataframe tbody tr th {\n",
              "        vertical-align: top;\n",
              "    }\n",
              "\n",
              "    .dataframe thead th {\n",
              "        text-align: right;\n",
              "    }\n",
              "</style>\n",
              "<table border=\"1\" class=\"dataframe\">\n",
              "  <thead>\n",
              "    <tr style=\"text-align: right;\">\n",
              "      <th></th>\n",
              "      <th>median_income</th>\n",
              "      <th>median_house_value</th>\n",
              "    </tr>\n",
              "  </thead>\n",
              "  <tbody>\n",
              "    <tr>\n",
              "      <th>longitude</th>\n",
              "      <td>-0.015176</td>\n",
              "      <td>-0.045967</td>\n",
              "    </tr>\n",
              "    <tr>\n",
              "      <th>latitude</th>\n",
              "      <td>-0.079809</td>\n",
              "      <td>-0.144160</td>\n",
              "    </tr>\n",
              "    <tr>\n",
              "      <th>housing_median_age</th>\n",
              "      <td>-0.119034</td>\n",
              "      <td>0.105623</td>\n",
              "    </tr>\n",
              "    <tr>\n",
              "      <th>total_rooms</th>\n",
              "      <td>0.198050</td>\n",
              "      <td>0.134153</td>\n",
              "    </tr>\n",
              "    <tr>\n",
              "      <th>total_bedrooms</th>\n",
              "      <td>-0.007723</td>\n",
              "      <td>0.049686</td>\n",
              "    </tr>\n",
              "    <tr>\n",
              "      <th>population</th>\n",
              "      <td>0.004834</td>\n",
              "      <td>-0.024650</td>\n",
              "    </tr>\n",
              "    <tr>\n",
              "      <th>households</th>\n",
              "      <td>0.013033</td>\n",
              "      <td>0.065843</td>\n",
              "    </tr>\n",
              "    <tr>\n",
              "      <th>median_income</th>\n",
              "      <td>1.000000</td>\n",
              "      <td>0.688075</td>\n",
              "    </tr>\n",
              "    <tr>\n",
              "      <th>median_house_value</th>\n",
              "      <td>0.688075</td>\n",
              "      <td>1.000000</td>\n",
              "    </tr>\n",
              "  </tbody>\n",
              "</table>\n",
              "</div>\n",
              "    <div class=\"colab-df-buttons\">\n",
              "\n",
              "  <div class=\"colab-df-container\">\n",
              "    <button class=\"colab-df-convert\" onclick=\"convertToInteractive('df-3d40b39b-00e7-4270-9e03-f4516fb5eede')\"\n",
              "            title=\"Convert this dataframe to an interactive table.\"\n",
              "            style=\"display:none;\">\n",
              "\n",
              "  <svg xmlns=\"http://www.w3.org/2000/svg\" height=\"24px\" viewBox=\"0 -960 960 960\">\n",
              "    <path d=\"M120-120v-720h720v720H120Zm60-500h600v-160H180v160Zm220 220h160v-160H400v160Zm0 220h160v-160H400v160ZM180-400h160v-160H180v160Zm440 0h160v-160H620v160ZM180-180h160v-160H180v160Zm440 0h160v-160H620v160Z\"/>\n",
              "  </svg>\n",
              "    </button>\n",
              "\n",
              "  <style>\n",
              "    .colab-df-container {\n",
              "      display:flex;\n",
              "      gap: 12px;\n",
              "    }\n",
              "\n",
              "    .colab-df-convert {\n",
              "      background-color: #E8F0FE;\n",
              "      border: none;\n",
              "      border-radius: 50%;\n",
              "      cursor: pointer;\n",
              "      display: none;\n",
              "      fill: #1967D2;\n",
              "      height: 32px;\n",
              "      padding: 0 0 0 0;\n",
              "      width: 32px;\n",
              "    }\n",
              "\n",
              "    .colab-df-convert:hover {\n",
              "      background-color: #E2EBFA;\n",
              "      box-shadow: 0px 1px 2px rgba(60, 64, 67, 0.3), 0px 1px 3px 1px rgba(60, 64, 67, 0.15);\n",
              "      fill: #174EA6;\n",
              "    }\n",
              "\n",
              "    .colab-df-buttons div {\n",
              "      margin-bottom: 4px;\n",
              "    }\n",
              "\n",
              "    [theme=dark] .colab-df-convert {\n",
              "      background-color: #3B4455;\n",
              "      fill: #D2E3FC;\n",
              "    }\n",
              "\n",
              "    [theme=dark] .colab-df-convert:hover {\n",
              "      background-color: #434B5C;\n",
              "      box-shadow: 0px 1px 3px 1px rgba(0, 0, 0, 0.15);\n",
              "      filter: drop-shadow(0px 1px 2px rgba(0, 0, 0, 0.3));\n",
              "      fill: #FFFFFF;\n",
              "    }\n",
              "  </style>\n",
              "\n",
              "    <script>\n",
              "      const buttonEl =\n",
              "        document.querySelector('#df-3d40b39b-00e7-4270-9e03-f4516fb5eede button.colab-df-convert');\n",
              "      buttonEl.style.display =\n",
              "        google.colab.kernel.accessAllowed ? 'block' : 'none';\n",
              "\n",
              "      async function convertToInteractive(key) {\n",
              "        const element = document.querySelector('#df-3d40b39b-00e7-4270-9e03-f4516fb5eede');\n",
              "        const dataTable =\n",
              "          await google.colab.kernel.invokeFunction('convertToInteractive',\n",
              "                                                    [key], {});\n",
              "        if (!dataTable) return;\n",
              "\n",
              "        const docLinkHtml = 'Like what you see? Visit the ' +\n",
              "          '<a target=\"_blank\" href=https://colab.research.google.com/notebooks/data_table.ipynb>data table notebook</a>'\n",
              "          + ' to learn more about interactive tables.';\n",
              "        element.innerHTML = '';\n",
              "        dataTable['output_type'] = 'display_data';\n",
              "        await google.colab.output.renderOutput(dataTable, element);\n",
              "        const docLink = document.createElement('div');\n",
              "        docLink.innerHTML = docLinkHtml;\n",
              "        element.appendChild(docLink);\n",
              "      }\n",
              "    </script>\n",
              "  </div>\n",
              "\n",
              "\n",
              "<div id=\"df-67c7ae44-0f11-4e09-9117-9739dd834c22\">\n",
              "  <button class=\"colab-df-quickchart\" onclick=\"quickchart('df-67c7ae44-0f11-4e09-9117-9739dd834c22')\"\n",
              "            title=\"Suggest charts.\"\n",
              "            style=\"display:none;\">\n",
              "\n",
              "<svg xmlns=\"http://www.w3.org/2000/svg\" height=\"24px\"viewBox=\"0 0 24 24\"\n",
              "     width=\"24px\">\n",
              "    <g>\n",
              "        <path d=\"M19 3H5c-1.1 0-2 .9-2 2v14c0 1.1.9 2 2 2h14c1.1 0 2-.9 2-2V5c0-1.1-.9-2-2-2zM9 17H7v-7h2v7zm4 0h-2V7h2v10zm4 0h-2v-4h2v4z\"/>\n",
              "    </g>\n",
              "</svg>\n",
              "  </button>\n",
              "\n",
              "<style>\n",
              "  .colab-df-quickchart {\n",
              "      --bg-color: #E8F0FE;\n",
              "      --fill-color: #1967D2;\n",
              "      --hover-bg-color: #E2EBFA;\n",
              "      --hover-fill-color: #174EA6;\n",
              "      --disabled-fill-color: #AAA;\n",
              "      --disabled-bg-color: #DDD;\n",
              "  }\n",
              "\n",
              "  [theme=dark] .colab-df-quickchart {\n",
              "      --bg-color: #3B4455;\n",
              "      --fill-color: #D2E3FC;\n",
              "      --hover-bg-color: #434B5C;\n",
              "      --hover-fill-color: #FFFFFF;\n",
              "      --disabled-bg-color: #3B4455;\n",
              "      --disabled-fill-color: #666;\n",
              "  }\n",
              "\n",
              "  .colab-df-quickchart {\n",
              "    background-color: var(--bg-color);\n",
              "    border: none;\n",
              "    border-radius: 50%;\n",
              "    cursor: pointer;\n",
              "    display: none;\n",
              "    fill: var(--fill-color);\n",
              "    height: 32px;\n",
              "    padding: 0;\n",
              "    width: 32px;\n",
              "  }\n",
              "\n",
              "  .colab-df-quickchart:hover {\n",
              "    background-color: var(--hover-bg-color);\n",
              "    box-shadow: 0 1px 2px rgba(60, 64, 67, 0.3), 0 1px 3px 1px rgba(60, 64, 67, 0.15);\n",
              "    fill: var(--button-hover-fill-color);\n",
              "  }\n",
              "\n",
              "  .colab-df-quickchart-complete:disabled,\n",
              "  .colab-df-quickchart-complete:disabled:hover {\n",
              "    background-color: var(--disabled-bg-color);\n",
              "    fill: var(--disabled-fill-color);\n",
              "    box-shadow: none;\n",
              "  }\n",
              "\n",
              "  .colab-df-spinner {\n",
              "    border: 2px solid var(--fill-color);\n",
              "    border-color: transparent;\n",
              "    border-bottom-color: var(--fill-color);\n",
              "    animation:\n",
              "      spin 1s steps(1) infinite;\n",
              "  }\n",
              "\n",
              "  @keyframes spin {\n",
              "    0% {\n",
              "      border-color: transparent;\n",
              "      border-bottom-color: var(--fill-color);\n",
              "      border-left-color: var(--fill-color);\n",
              "    }\n",
              "    20% {\n",
              "      border-color: transparent;\n",
              "      border-left-color: var(--fill-color);\n",
              "      border-top-color: var(--fill-color);\n",
              "    }\n",
              "    30% {\n",
              "      border-color: transparent;\n",
              "      border-left-color: var(--fill-color);\n",
              "      border-top-color: var(--fill-color);\n",
              "      border-right-color: var(--fill-color);\n",
              "    }\n",
              "    40% {\n",
              "      border-color: transparent;\n",
              "      border-right-color: var(--fill-color);\n",
              "      border-top-color: var(--fill-color);\n",
              "    }\n",
              "    60% {\n",
              "      border-color: transparent;\n",
              "      border-right-color: var(--fill-color);\n",
              "    }\n",
              "    80% {\n",
              "      border-color: transparent;\n",
              "      border-right-color: var(--fill-color);\n",
              "      border-bottom-color: var(--fill-color);\n",
              "    }\n",
              "    90% {\n",
              "      border-color: transparent;\n",
              "      border-bottom-color: var(--fill-color);\n",
              "    }\n",
              "  }\n",
              "</style>\n",
              "\n",
              "  <script>\n",
              "    async function quickchart(key) {\n",
              "      const quickchartButtonEl =\n",
              "        document.querySelector('#' + key + ' button');\n",
              "      quickchartButtonEl.disabled = true;  // To prevent multiple clicks.\n",
              "      quickchartButtonEl.classList.add('colab-df-spinner');\n",
              "      try {\n",
              "        const charts = await google.colab.kernel.invokeFunction(\n",
              "            'suggestCharts', [key], {});\n",
              "      } catch (error) {\n",
              "        console.error('Error during call to suggestCharts:', error);\n",
              "      }\n",
              "      quickchartButtonEl.classList.remove('colab-df-spinner');\n",
              "      quickchartButtonEl.classList.add('colab-df-quickchart-complete');\n",
              "    }\n",
              "    (() => {\n",
              "      let quickchartButtonEl =\n",
              "        document.querySelector('#df-67c7ae44-0f11-4e09-9117-9739dd834c22 button');\n",
              "      quickchartButtonEl.style.display =\n",
              "        google.colab.kernel.accessAllowed ? 'block' : 'none';\n",
              "    })();\n",
              "  </script>\n",
              "</div>\n",
              "    </div>\n",
              "  </div>\n"
            ]
          },
          "metadata": {},
          "execution_count": 30
        }
      ]
    },
    {
      "cell_type": "code",
      "source": [
        "x = df[['median_income','total_rooms']]\n",
        "x = np.array(x,dtype=np.float32)\n"
      ],
      "metadata": {
        "id": "1KaEMq3f3jXd"
      },
      "execution_count": null,
      "outputs": []
    },
    {
      "cell_type": "code",
      "source": [
        "y = df['median_house_value']\n",
        "\n",
        "y\n"
      ],
      "metadata": {
        "colab": {
          "base_uri": "https://localhost:8080/"
        },
        "id": "3gOY26w14Adh",
        "outputId": "bdb358ae-f0d7-4154-b393-72ea951b18a8"
      },
      "execution_count": null,
      "outputs": [
        {
          "output_type": "execute_result",
          "data": {
            "text/plain": [
              "0        452600.0\n",
              "1        358500.0\n",
              "2        352100.0\n",
              "3        341300.0\n",
              "4        342200.0\n",
              "           ...   \n",
              "20635     78100.0\n",
              "20636     77100.0\n",
              "20637     92300.0\n",
              "20638     84700.0\n",
              "20639     89400.0\n",
              "Name: median_house_value, Length: 20640, dtype: float64"
            ]
          },
          "metadata": {},
          "execution_count": 32
        }
      ]
    },
    {
      "cell_type": "code",
      "source": [
        "df['ocean_proximity'].unique()"
      ],
      "metadata": {
        "colab": {
          "base_uri": "https://localhost:8080/"
        },
        "id": "Zw0fHA1_4F90",
        "outputId": "d37f9668-58d0-4ca2-a2f6-ecc9f737795d"
      },
      "execution_count": null,
      "outputs": [
        {
          "output_type": "execute_result",
          "data": {
            "text/plain": [
              "array(['NEAR BAY', '<1H OCEAN', 'INLAND', 'NEAR OCEAN', 'ISLAND'],\n",
              "      dtype=object)"
            ]
          },
          "metadata": {},
          "execution_count": 33
        }
      ]
    },
    {
      "cell_type": "code",
      "source": [
        "from sklearn.model_selection import train_test_split\n",
        "X_train,X_test,Y_train,Y_test = train_test_split(x,y,test_size=0.2)\n",
        "X_train.shape,X_test.shape,Y_train.shape,Y_test.shape"
      ],
      "metadata": {
        "colab": {
          "base_uri": "https://localhost:8080/"
        },
        "id": "0R0nHzwr0MyH",
        "outputId": "a6a15839-ffbe-4fa0-c67a-ff8fbe57298f"
      },
      "execution_count": null,
      "outputs": [
        {
          "output_type": "execute_result",
          "data": {
            "text/plain": [
              "((16512, 2), (4128, 2), (16512,), (4128,))"
            ]
          },
          "metadata": {},
          "execution_count": 34
        }
      ]
    },
    {
      "cell_type": "code",
      "source": [
        "from tensorflow import keras\n",
        "from keras.models import Sequential\n",
        "from keras.layers import Dense\n",
        "model = Sequential()\n",
        "model.add(Dense(50,activation='relu',input_dim = 2))\n",
        "model.add(Dense(100,activation='relu'))\n",
        "model.add(Dense(150,activation='relu'))\n",
        "model.add(Dense(1,activation='relu'))\n",
        "\n"
      ],
      "metadata": {
        "id": "H2nRLrIY4X6u"
      },
      "execution_count": null,
      "outputs": []
    },
    {
      "cell_type": "code",
      "source": [
        "model.summary()"
      ],
      "metadata": {
        "colab": {
          "base_uri": "https://localhost:8080/"
        },
        "id": "300AI5Bj_tk1",
        "outputId": "2a7c2d74-ddd6-4e51-ad7b-0779d87536c3"
      },
      "execution_count": null,
      "outputs": [
        {
          "output_type": "stream",
          "name": "stdout",
          "text": [
            "Model: \"sequential_1\"\n",
            "_________________________________________________________________\n",
            " Layer (type)                Output Shape              Param #   \n",
            "=================================================================\n",
            " dense_4 (Dense)             (None, 50)                150       \n",
            "                                                                 \n",
            " dense_5 (Dense)             (None, 100)               5100      \n",
            "                                                                 \n",
            " dense_6 (Dense)             (None, 150)               15150     \n",
            "                                                                 \n",
            " dense_7 (Dense)             (None, 1)                 151       \n",
            "                                                                 \n",
            "=================================================================\n",
            "Total params: 20551 (80.28 KB)\n",
            "Trainable params: 20551 (80.28 KB)\n",
            "Non-trainable params: 0 (0.00 Byte)\n",
            "_________________________________________________________________\n"
          ]
        }
      ]
    },
    {
      "cell_type": "code",
      "source": [
        "\n",
        "model.compile(loss = 'mean_squared_error',optimizer='adam')\n",
        "model.fit(X_train, Y_train, epochs=50)\n"
      ],
      "metadata": {
        "colab": {
          "base_uri": "https://localhost:8080/"
        },
        "id": "kOTlttHL5rPn",
        "outputId": "e0bc56da-4c02-492b-dbf5-67c8fd27a748"
      },
      "execution_count": null,
      "outputs": [
        {
          "output_type": "stream",
          "name": "stdout",
          "text": [
            "Epoch 1/50\n",
            "516/516 [==============================] - 2s 2ms/step - loss: 55855763456.0000\n",
            "Epoch 2/50\n",
            "516/516 [==============================] - 2s 3ms/step - loss: 55855808512.0000\n",
            "Epoch 3/50\n",
            "516/516 [==============================] - 2s 3ms/step - loss: 55855783936.0000\n",
            "Epoch 4/50\n",
            "516/516 [==============================] - 1s 3ms/step - loss: 55855792128.0000\n",
            "Epoch 5/50\n",
            "516/516 [==============================] - 1s 2ms/step - loss: 55855808512.0000\n",
            "Epoch 6/50\n",
            "516/516 [==============================] - 1s 2ms/step - loss: 55855804416.0000\n",
            "Epoch 7/50\n",
            "516/516 [==============================] - 1s 2ms/step - loss: 55855763456.0000\n",
            "Epoch 8/50\n",
            "516/516 [==============================] - 1s 2ms/step - loss: 55855792128.0000\n",
            "Epoch 9/50\n",
            "516/516 [==============================] - 1s 2ms/step - loss: 55855808512.0000\n",
            "Epoch 10/50\n",
            "516/516 [==============================] - 1s 2ms/step - loss: 55855771648.0000\n",
            "Epoch 11/50\n",
            "516/516 [==============================] - 1s 2ms/step - loss: 55855808512.0000\n",
            "Epoch 12/50\n",
            "516/516 [==============================] - 1s 2ms/step - loss: 55855792128.0000\n",
            "Epoch 13/50\n",
            "516/516 [==============================] - 1s 2ms/step - loss: 55855812608.0000\n",
            "Epoch 14/50\n",
            "516/516 [==============================] - 1s 2ms/step - loss: 55855808512.0000\n",
            "Epoch 15/50\n",
            "516/516 [==============================] - 2s 3ms/step - loss: 55855808512.0000\n",
            "Epoch 16/50\n",
            "516/516 [==============================] - 2s 3ms/step - loss: 55855808512.0000\n",
            "Epoch 17/50\n",
            "516/516 [==============================] - 1s 3ms/step - loss: 55855796224.0000\n",
            "Epoch 18/50\n",
            "516/516 [==============================] - 1s 2ms/step - loss: 55855816704.0000\n",
            "Epoch 19/50\n",
            "516/516 [==============================] - 1s 2ms/step - loss: 55855853568.0000\n",
            "Epoch 20/50\n",
            "516/516 [==============================] - 1s 2ms/step - loss: 55855812608.0000\n",
            "Epoch 21/50\n",
            "516/516 [==============================] - 1s 2ms/step - loss: 55855820800.0000\n",
            "Epoch 22/50\n",
            "516/516 [==============================] - 1s 2ms/step - loss: 55855812608.0000\n",
            "Epoch 23/50\n",
            "516/516 [==============================] - 1s 2ms/step - loss: 55855775744.0000\n",
            "Epoch 24/50\n",
            "516/516 [==============================] - 1s 2ms/step - loss: 55855779840.0000\n",
            "Epoch 25/50\n",
            "516/516 [==============================] - 1s 2ms/step - loss: 55855800320.0000\n",
            "Epoch 26/50\n",
            "516/516 [==============================] - 1s 2ms/step - loss: 55855804416.0000\n",
            "Epoch 27/50\n",
            "516/516 [==============================] - 1s 2ms/step - loss: 55855763456.0000\n",
            "Epoch 28/50\n",
            "516/516 [==============================] - 1s 3ms/step - loss: 55855808512.0000\n",
            "Epoch 29/50\n",
            "516/516 [==============================] - 1s 3ms/step - loss: 55855771648.0000\n",
            "Epoch 30/50\n",
            "516/516 [==============================] - 1s 2ms/step - loss: 55855779840.0000\n",
            "Epoch 31/50\n",
            "516/516 [==============================] - 1s 2ms/step - loss: 55855779840.0000\n",
            "Epoch 32/50\n",
            "516/516 [==============================] - 1s 2ms/step - loss: 55855808512.0000\n",
            "Epoch 33/50\n",
            "516/516 [==============================] - 1s 2ms/step - loss: 55855779840.0000\n",
            "Epoch 34/50\n",
            "516/516 [==============================] - 1s 2ms/step - loss: 55855804416.0000\n",
            "Epoch 35/50\n",
            "516/516 [==============================] - 1s 2ms/step - loss: 55855763456.0000\n",
            "Epoch 36/50\n",
            "516/516 [==============================] - 1s 2ms/step - loss: 55855771648.0000\n",
            "Epoch 37/50\n",
            "516/516 [==============================] - 1s 2ms/step - loss: 55855788032.0000\n",
            "Epoch 38/50\n",
            "516/516 [==============================] - 1s 2ms/step - loss: 55855816704.0000\n",
            "Epoch 39/50\n",
            "516/516 [==============================] - 1s 2ms/step - loss: 55855788032.0000\n",
            "Epoch 40/50\n",
            "516/516 [==============================] - 1s 2ms/step - loss: 55855833088.0000\n",
            "Epoch 41/50\n",
            "516/516 [==============================] - 1s 3ms/step - loss: 55855783936.0000\n",
            "Epoch 42/50\n",
            "516/516 [==============================] - 2s 3ms/step - loss: 55855796224.0000\n",
            "Epoch 43/50\n",
            "516/516 [==============================] - 1s 3ms/step - loss: 55855804416.0000\n",
            "Epoch 44/50\n",
            "516/516 [==============================] - 1s 2ms/step - loss: 55855783936.0000\n",
            "Epoch 45/50\n",
            "516/516 [==============================] - 1s 2ms/step - loss: 55855804416.0000\n",
            "Epoch 46/50\n",
            "516/516 [==============================] - 1s 2ms/step - loss: 55855812608.0000\n",
            "Epoch 47/50\n",
            "516/516 [==============================] - 1s 2ms/step - loss: 55855808512.0000\n",
            "Epoch 48/50\n",
            "516/516 [==============================] - 1s 2ms/step - loss: 55855759360.0000\n",
            "Epoch 49/50\n",
            "516/516 [==============================] - 1s 2ms/step - loss: 55855812608.0000\n",
            "Epoch 50/50\n",
            "516/516 [==============================] - 1s 2ms/step - loss: 55855783936.0000\n"
          ]
        },
        {
          "output_type": "execute_result",
          "data": {
            "text/plain": [
              "<keras.src.callbacks.History at 0x7eaa41eaf520>"
            ]
          },
          "metadata": {},
          "execution_count": 37
        }
      ]
    },
    {
      "cell_type": "code",
      "source": [
        "from sklearn.metrics import mean_absolute_error\n",
        "y_train_pred = model.predict(X_train)\n",
        "mean_absolute_error(Y_train,y_train_pred)"
      ],
      "metadata": {
        "colab": {
          "base_uri": "https://localhost:8080/"
        },
        "id": "PQic9055CDOc",
        "outputId": "2457dd48-cada-482d-ad7d-cf025fe6ad19"
      },
      "execution_count": null,
      "outputs": [
        {
          "output_type": "stream",
          "name": "stdout",
          "text": [
            "516/516 [==============================] - 1s 1ms/step\n"
          ]
        },
        {
          "output_type": "execute_result",
          "data": {
            "text/plain": [
              "206351.83805717053"
            ]
          },
          "metadata": {},
          "execution_count": 38
        }
      ]
    },
    {
      "cell_type": "code",
      "source": [
        "y_test_pred = model.predict(X_test)\n",
        "mean_absolute_error(Y_test,y_test_pred)"
      ],
      "metadata": {
        "colab": {
          "base_uri": "https://localhost:8080/"
        },
        "id": "7Km6vTJECtDG",
        "outputId": "c010895e-c2c0-4f0d-db8b-28bea2f0206e"
      },
      "execution_count": null,
      "outputs": [
        {
          "output_type": "stream",
          "name": "stdout",
          "text": [
            "129/129 [==============================] - 0s 1ms/step\n"
          ]
        },
        {
          "output_type": "execute_result",
          "data": {
            "text/plain": [
              "208871.73231589148"
            ]
          },
          "metadata": {},
          "execution_count": 39
        }
      ]
    },
    {
      "cell_type": "code",
      "source": [
        "model.compile(loss = 'mean_squared_error',optimizer='rmsprop')\n",
        "model.fit(X_train, Y_train, epochs=50)"
      ],
      "metadata": {
        "colab": {
          "base_uri": "https://localhost:8080/"
        },
        "id": "Ihd6cRbFNSiL",
        "outputId": "d7b6e8b3-277e-41a8-e394-6a4d996ecd1f"
      },
      "execution_count": null,
      "outputs": [
        {
          "output_type": "stream",
          "name": "stdout",
          "text": [
            "Epoch 1/50\n",
            "516/516 [==============================] - 2s 3ms/step - loss: 55855792128.0000\n",
            "Epoch 2/50\n",
            "516/516 [==============================] - 1s 3ms/step - loss: 55855763456.0000\n",
            "Epoch 3/50\n",
            "516/516 [==============================] - 1s 2ms/step - loss: 55855796224.0000\n",
            "Epoch 4/50\n",
            "516/516 [==============================] - 1s 2ms/step - loss: 55855800320.0000\n",
            "Epoch 5/50\n",
            "516/516 [==============================] - 1s 2ms/step - loss: 55855783936.0000\n",
            "Epoch 6/50\n",
            "516/516 [==============================] - 1s 2ms/step - loss: 55855767552.0000\n",
            "Epoch 7/50\n",
            "516/516 [==============================] - 1s 2ms/step - loss: 55855808512.0000\n",
            "Epoch 8/50\n",
            "516/516 [==============================] - 1s 2ms/step - loss: 55855816704.0000\n",
            "Epoch 9/50\n",
            "516/516 [==============================] - 1s 2ms/step - loss: 55855800320.0000\n",
            "Epoch 10/50\n",
            "516/516 [==============================] - 1s 2ms/step - loss: 55855792128.0000\n",
            "Epoch 11/50\n",
            "516/516 [==============================] - 1s 2ms/step - loss: 55855800320.0000\n",
            "Epoch 12/50\n",
            "516/516 [==============================] - 1s 2ms/step - loss: 55855800320.0000\n",
            "Epoch 13/50\n",
            "516/516 [==============================] - 1s 2ms/step - loss: 55855808512.0000\n",
            "Epoch 14/50\n",
            "516/516 [==============================] - 1s 2ms/step - loss: 55855792128.0000\n",
            "Epoch 15/50\n",
            "516/516 [==============================] - 1s 2ms/step - loss: 55855800320.0000\n",
            "Epoch 16/50\n",
            "516/516 [==============================] - 1s 3ms/step - loss: 55855779840.0000\n",
            "Epoch 17/50\n",
            "516/516 [==============================] - 1s 3ms/step - loss: 55855820800.0000\n",
            "Epoch 18/50\n",
            "516/516 [==============================] - 1s 2ms/step - loss: 55855808512.0000\n",
            "Epoch 19/50\n",
            "516/516 [==============================] - 1s 2ms/step - loss: 55855783936.0000\n",
            "Epoch 20/50\n",
            "516/516 [==============================] - 1s 2ms/step - loss: 55855824896.0000\n",
            "Epoch 21/50\n",
            "516/516 [==============================] - 1s 2ms/step - loss: 55855783936.0000\n",
            "Epoch 22/50\n",
            "516/516 [==============================] - 1s 2ms/step - loss: 55855800320.0000\n",
            "Epoch 23/50\n",
            "516/516 [==============================] - 1s 2ms/step - loss: 55855783936.0000\n",
            "Epoch 24/50\n",
            "516/516 [==============================] - 1s 2ms/step - loss: 55855759360.0000\n",
            "Epoch 25/50\n",
            "516/516 [==============================] - 1s 2ms/step - loss: 55855792128.0000\n",
            "Epoch 26/50\n",
            "516/516 [==============================] - 1s 2ms/step - loss: 55855833088.0000\n",
            "Epoch 27/50\n",
            "516/516 [==============================] - 1s 2ms/step - loss: 55855771648.0000\n",
            "Epoch 28/50\n",
            "516/516 [==============================] - 1s 2ms/step - loss: 55855808512.0000\n",
            "Epoch 29/50\n",
            "516/516 [==============================] - 1s 2ms/step - loss: 55855775744.0000\n",
            "Epoch 30/50\n",
            "516/516 [==============================] - 1s 3ms/step - loss: 55855788032.0000\n",
            "Epoch 31/50\n",
            "516/516 [==============================] - 1s 3ms/step - loss: 55855771648.0000\n",
            "Epoch 32/50\n",
            "516/516 [==============================] - 1s 2ms/step - loss: 55855783936.0000\n",
            "Epoch 33/50\n",
            "516/516 [==============================] - 1s 2ms/step - loss: 55855808512.0000\n",
            "Epoch 34/50\n",
            "516/516 [==============================] - 1s 2ms/step - loss: 55855783936.0000\n",
            "Epoch 35/50\n",
            "516/516 [==============================] - 1s 2ms/step - loss: 55855767552.0000\n",
            "Epoch 36/50\n",
            "516/516 [==============================] - 1s 2ms/step - loss: 55855820800.0000\n",
            "Epoch 37/50\n",
            "516/516 [==============================] - 1s 2ms/step - loss: 55855751168.0000\n",
            "Epoch 38/50\n",
            "516/516 [==============================] - 1s 2ms/step - loss: 55855808512.0000\n",
            "Epoch 39/50\n",
            "516/516 [==============================] - 1s 2ms/step - loss: 55855800320.0000\n",
            "Epoch 40/50\n",
            "516/516 [==============================] - 1s 2ms/step - loss: 55855804416.0000\n",
            "Epoch 41/50\n",
            "516/516 [==============================] - 1s 2ms/step - loss: 55855800320.0000\n",
            "Epoch 42/50\n",
            "516/516 [==============================] - 1s 2ms/step - loss: 55855808512.0000\n",
            "Epoch 43/50\n",
            "516/516 [==============================] - 1s 3ms/step - loss: 55855783936.0000\n",
            "Epoch 44/50\n",
            "516/516 [==============================] - 1s 3ms/step - loss: 55855751168.0000\n",
            "Epoch 45/50\n",
            "516/516 [==============================] - 1s 3ms/step - loss: 55855800320.0000\n",
            "Epoch 46/50\n",
            "516/516 [==============================] - 1s 2ms/step - loss: 55855800320.0000\n",
            "Epoch 47/50\n",
            "516/516 [==============================] - 1s 2ms/step - loss: 55855775744.0000\n",
            "Epoch 48/50\n",
            "516/516 [==============================] - 1s 2ms/step - loss: 55855755264.0000\n",
            "Epoch 49/50\n",
            "516/516 [==============================] - 1s 2ms/step - loss: 55855800320.0000\n",
            "Epoch 50/50\n",
            "516/516 [==============================] - 1s 2ms/step - loss: 55855808512.0000\n"
          ]
        },
        {
          "output_type": "execute_result",
          "data": {
            "text/plain": [
              "<keras.src.callbacks.History at 0x7eaa41c45f30>"
            ]
          },
          "metadata": {},
          "execution_count": 40
        }
      ]
    },
    {
      "cell_type": "code",
      "source": [
        "y_train_pred = model.predict(X_train)\n",
        "mean_absolute_error(Y_train,y_train_pred)"
      ],
      "metadata": {
        "colab": {
          "base_uri": "https://localhost:8080/"
        },
        "id": "oUdmv0nVOJyA",
        "outputId": "bf2d645b-c234-4a86-a758-9d1519ff91c9"
      },
      "execution_count": null,
      "outputs": [
        {
          "output_type": "stream",
          "name": "stdout",
          "text": [
            "516/516 [==============================] - 1s 1ms/step\n"
          ]
        },
        {
          "output_type": "execute_result",
          "data": {
            "text/plain": [
              "206351.83805717053"
            ]
          },
          "metadata": {},
          "execution_count": 41
        }
      ]
    },
    {
      "cell_type": "code",
      "source": [
        "y_test_pred = model.predict(X_test)\n",
        "mean_absolute_error(Y_test,y_test_pred)"
      ],
      "metadata": {
        "colab": {
          "base_uri": "https://localhost:8080/"
        },
        "id": "PjGpl6FAXPUq",
        "outputId": "816e4143-9a22-4369-c2ca-8b2166e5046e"
      },
      "execution_count": null,
      "outputs": [
        {
          "output_type": "stream",
          "name": "stdout",
          "text": [
            "129/129 [==============================] - 0s 1ms/step\n"
          ]
        },
        {
          "output_type": "execute_result",
          "data": {
            "text/plain": [
              "208871.73231589148"
            ]
          },
          "metadata": {},
          "execution_count": 42
        }
      ]
    },
    {
      "cell_type": "code",
      "source": [
        "model.compile(loss = 'mean_squared_error',optimizer='SGD')\n",
        "model.fit(X_train, Y_train, epochs=50)"
      ],
      "metadata": {
        "colab": {
          "base_uri": "https://localhost:8080/"
        },
        "id": "9onc9VPiN4Dm",
        "outputId": "bd0b66f9-53ad-4147-8067-d4f940c233a8"
      },
      "execution_count": null,
      "outputs": [
        {
          "output_type": "stream",
          "name": "stdout",
          "text": [
            "Epoch 1/50\n",
            "516/516 [==============================] - 1s 2ms/step - loss: 55855812608.0000\n",
            "Epoch 2/50\n",
            "516/516 [==============================] - 1s 2ms/step - loss: 55855808512.0000\n",
            "Epoch 3/50\n",
            "516/516 [==============================] - 1s 2ms/step - loss: 55855808512.0000\n",
            "Epoch 4/50\n",
            "516/516 [==============================] - 1s 2ms/step - loss: 55855792128.0000\n",
            "Epoch 5/50\n",
            "516/516 [==============================] - 1s 2ms/step - loss: 55855788032.0000\n",
            "Epoch 6/50\n",
            "516/516 [==============================] - 1s 2ms/step - loss: 55855792128.0000\n",
            "Epoch 7/50\n",
            "516/516 [==============================] - 1s 3ms/step - loss: 55855783936.0000\n",
            "Epoch 8/50\n",
            "516/516 [==============================] - 1s 2ms/step - loss: 55855775744.0000\n",
            "Epoch 9/50\n",
            "516/516 [==============================] - 1s 2ms/step - loss: 55855808512.0000\n",
            "Epoch 10/50\n",
            "516/516 [==============================] - 1s 2ms/step - loss: 55855792128.0000\n",
            "Epoch 11/50\n",
            "516/516 [==============================] - 1s 2ms/step - loss: 55855792128.0000\n",
            "Epoch 12/50\n",
            "516/516 [==============================] - 1s 2ms/step - loss: 55855796224.0000\n",
            "Epoch 13/50\n",
            "516/516 [==============================] - 1s 2ms/step - loss: 55855833088.0000\n",
            "Epoch 14/50\n",
            "516/516 [==============================] - 1s 2ms/step - loss: 55855812608.0000\n",
            "Epoch 15/50\n",
            "516/516 [==============================] - 1s 2ms/step - loss: 55855804416.0000\n",
            "Epoch 16/50\n",
            "516/516 [==============================] - 1s 2ms/step - loss: 55855820800.0000\n",
            "Epoch 17/50\n",
            "516/516 [==============================] - 1s 2ms/step - loss: 55855816704.0000\n",
            "Epoch 18/50\n",
            "516/516 [==============================] - 1s 2ms/step - loss: 55855833088.0000\n",
            "Epoch 19/50\n",
            "516/516 [==============================] - 1s 2ms/step - loss: 55855808512.0000\n",
            "Epoch 20/50\n",
            "516/516 [==============================] - 1s 2ms/step - loss: 55855800320.0000\n",
            "Epoch 21/50\n",
            "516/516 [==============================] - 1s 3ms/step - loss: 55855788032.0000\n",
            "Epoch 22/50\n",
            "516/516 [==============================] - 1s 2ms/step - loss: 55855820800.0000\n",
            "Epoch 23/50\n",
            "516/516 [==============================] - 1s 2ms/step - loss: 55855804416.0000\n",
            "Epoch 24/50\n",
            "516/516 [==============================] - 1s 2ms/step - loss: 55855788032.0000\n",
            "Epoch 25/50\n",
            "516/516 [==============================] - 1s 2ms/step - loss: 55855808512.0000\n",
            "Epoch 26/50\n",
            "516/516 [==============================] - 1s 2ms/step - loss: 55855788032.0000\n",
            "Epoch 27/50\n",
            "516/516 [==============================] - 1s 2ms/step - loss: 55855800320.0000\n",
            "Epoch 28/50\n",
            "516/516 [==============================] - 1s 2ms/step - loss: 55855812608.0000\n",
            "Epoch 29/50\n",
            "516/516 [==============================] - 1s 2ms/step - loss: 55855800320.0000\n",
            "Epoch 30/50\n",
            "516/516 [==============================] - 1s 2ms/step - loss: 55855808512.0000\n",
            "Epoch 31/50\n",
            "516/516 [==============================] - 1s 2ms/step - loss: 55855788032.0000\n",
            "Epoch 32/50\n",
            "516/516 [==============================] - 1s 2ms/step - loss: 55855804416.0000\n",
            "Epoch 33/50\n",
            "516/516 [==============================] - 1s 2ms/step - loss: 55855788032.0000\n",
            "Epoch 34/50\n",
            "516/516 [==============================] - 1s 2ms/step - loss: 55855812608.0000\n",
            "Epoch 35/50\n",
            "516/516 [==============================] - 1s 3ms/step - loss: 55855788032.0000\n",
            "Epoch 36/50\n",
            "516/516 [==============================] - 1s 3ms/step - loss: 55855779840.0000\n",
            "Epoch 37/50\n",
            "516/516 [==============================] - 1s 2ms/step - loss: 55855804416.0000\n",
            "Epoch 38/50\n",
            "516/516 [==============================] - 1s 2ms/step - loss: 55855804416.0000\n",
            "Epoch 39/50\n",
            "516/516 [==============================] - 1s 2ms/step - loss: 55855775744.0000\n",
            "Epoch 40/50\n",
            "516/516 [==============================] - 1s 2ms/step - loss: 55855775744.0000\n",
            "Epoch 41/50\n",
            "516/516 [==============================] - 1s 2ms/step - loss: 55855820800.0000\n",
            "Epoch 42/50\n",
            "516/516 [==============================] - 1s 2ms/step - loss: 55855808512.0000\n",
            "Epoch 43/50\n",
            "516/516 [==============================] - 1s 2ms/step - loss: 55855800320.0000\n",
            "Epoch 44/50\n",
            "516/516 [==============================] - 1s 2ms/step - loss: 55855796224.0000\n",
            "Epoch 45/50\n",
            "516/516 [==============================] - 1s 2ms/step - loss: 55855771648.0000\n",
            "Epoch 46/50\n",
            "516/516 [==============================] - 1s 2ms/step - loss: 55855796224.0000\n",
            "Epoch 47/50\n",
            "516/516 [==============================] - 1s 2ms/step - loss: 55855763456.0000\n",
            "Epoch 48/50\n",
            "516/516 [==============================] - 1s 2ms/step - loss: 55855824896.0000\n",
            "Epoch 49/50\n",
            "516/516 [==============================] - 1s 2ms/step - loss: 55855788032.0000\n",
            "Epoch 50/50\n",
            "516/516 [==============================] - 1s 3ms/step - loss: 55855808512.0000\n"
          ]
        },
        {
          "output_type": "execute_result",
          "data": {
            "text/plain": [
              "<keras.src.callbacks.History at 0x7eaa4168c1c0>"
            ]
          },
          "metadata": {},
          "execution_count": 43
        }
      ]
    },
    {
      "cell_type": "code",
      "source": [
        "y_train_pred = model.predict(X_train)\n",
        "mean_absolute_error(Y_train,y_train_pred)"
      ],
      "metadata": {
        "id": "Y_s76YZOOIPn",
        "colab": {
          "base_uri": "https://localhost:8080/"
        },
        "outputId": "84ff2254-91c2-476b-9184-74f265b0fbcd"
      },
      "execution_count": null,
      "outputs": [
        {
          "output_type": "stream",
          "name": "stdout",
          "text": [
            "516/516 [==============================] - 1s 2ms/step\n"
          ]
        },
        {
          "output_type": "execute_result",
          "data": {
            "text/plain": [
              "206351.83805717053"
            ]
          },
          "metadata": {},
          "execution_count": 44
        }
      ]
    },
    {
      "cell_type": "code",
      "source": [
        "y_test_pred = model.predict(X_test)\n",
        "mean_absolute_error(Y_test,y_test_pred)"
      ],
      "metadata": {
        "colab": {
          "base_uri": "https://localhost:8080/"
        },
        "id": "P4iquMK3ZSgT",
        "outputId": "8eb38228-8be0-4385-bc36-02036e62f7be"
      },
      "execution_count": null,
      "outputs": [
        {
          "output_type": "stream",
          "name": "stdout",
          "text": [
            "129/129 [==============================] - 0s 1ms/step\n"
          ]
        },
        {
          "output_type": "execute_result",
          "data": {
            "text/plain": [
              "208871.73231589148"
            ]
          },
          "metadata": {},
          "execution_count": 45
        }
      ]
    },
    {
      "cell_type": "code",
      "source": [
        "model.evaluate(X_test,Y_test)"
      ],
      "metadata": {
        "colab": {
          "base_uri": "https://localhost:8080/"
        },
        "id": "Bil87S0W9Y8k",
        "outputId": "b201ce68-57a2-4011-d1c0-9dc429757a9b"
      },
      "execution_count": null,
      "outputs": [
        {
          "output_type": "stream",
          "name": "stdout",
          "text": [
            "129/129 [==============================] - 0s 1ms/step - loss: 57100963840.0000\n"
          ]
        },
        {
          "output_type": "execute_result",
          "data": {
            "text/plain": [
              "57100963840.0"
            ]
          },
          "metadata": {},
          "execution_count": 46
        }
      ]
    }
  ]
}